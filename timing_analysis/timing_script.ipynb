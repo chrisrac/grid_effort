{
 "cells": [
  {
   "cell_type": "markdown",
   "id": "a3e32033-e163-42b1-a0a0-28ac0c5cfa46",
   "metadata": {},
   "source": [
    "Module imports"
   ]
  },
  {
   "cell_type": "code",
   "execution_count": 1,
   "id": "420a7a42-edf5-4e4b-be1f-3bf963efebd6",
   "metadata": {},
   "outputs": [],
   "source": [
    "import geopandas as gpd\n",
    "import fiona"
   ]
  },
  {
   "cell_type": "markdown",
   "id": "2afc70c2-5fa9-4e61-a443-bfb5e783d614",
   "metadata": {},
   "source": [
    "# HEX 5"
   ]
  },
  {
   "cell_type": "markdown",
   "id": "71fb4f82-8bc2-46cf-94e1-684c75708863",
   "metadata": {},
   "source": [
    "Hex imports"
   ]
  },
  {
   "cell_type": "code",
   "execution_count": 2,
   "id": "78f2ae93-2293-4f62-81c7-619880c5ce2f",
   "metadata": {},
   "outputs": [
    {
     "name": "stdout",
     "output_type": "stream",
     "text": [
      "CPU times: total: 672 ms\n",
      "Wall time: 679 ms\n"
     ]
    }
   ],
   "source": [
    "%%time\n",
    "# Define the path to the geodatabase\n",
    "inputs_gdb = r'C://Research/Grid_effort/H3Grid_Inputs.gdb'\n",
    "hex_gdb = r\"C://Research/Grid_effort/H3_5_10_Grd.gdb\"\n",
    "hexLevel = '5'\n",
    "\n",
    "# Read in the H3_5 polygon grid layer as the base layer\n",
    "base_layer = gpd.read_file(hex_gdb, layer='H3_'+hexLevel)\n",
    "base_layer.drop(columns=['Shape_Length','Shape_Area'],inplace=True)"
   ]
  },
  {
   "cell_type": "markdown",
   "id": "58756eb9-adb9-42c0-a5db-c33907b333c8",
   "metadata": {},
   "source": [
    "Hex to counties"
   ]
  },
  {
   "cell_type": "code",
   "execution_count": 3,
   "id": "be28f19a-ca16-4ce3-800a-ae6353da703e",
   "metadata": {},
   "outputs": [
    {
     "name": "stdout",
     "output_type": "stream",
     "text": [
      "CPU times: total: 1.53 s\n",
      "Wall time: 1.54 s\n"
     ]
    }
   ],
   "source": [
    "%%time\n",
    "joined_layer = gpd.read_file(inputs_gdb, layer='tj_2021_us_st_cnt')\n",
    "try:\n",
    "    joined_layer.drop(columns=['Shape_Length','Shape_Area'],inplace=True)\n",
    "except:\n",
    "    print('Layer already cleared')"
   ]
  },
  {
   "cell_type": "code",
   "execution_count": 4,
   "id": "601ff31c-7d0f-480f-a3a4-9f8c769a519c",
   "metadata": {},
   "outputs": [
    {
     "name": "stdout",
     "output_type": "stream",
     "text": [
      "CPU times: total: 422 ms\n",
      "Wall time: 423 ms\n"
     ]
    }
   ],
   "source": [
    "%%time\n",
    "if not joined_layer.crs == base_layer.crs:\n",
    "        joined_layer = joined_layer.to_crs(base_layer.crs)\n",
    "\n",
    "output_layer = gpd.sjoin(base_layer, joined_layer, how=\"left\")\n",
    "\n",
    "if 'index_right' in output_layer.columns:\n",
    "        output_layer = output_layer.drop('index_right', axis=1)"
   ]
  },
  {
   "cell_type": "code",
   "execution_count": 5,
   "id": "d8d71481-a7d6-4833-b02f-ef4dd62dc006",
   "metadata": {},
   "outputs": [
    {
     "name": "stdout",
     "output_type": "stream",
     "text": [
      "CPU times: total: 828 ms\n",
      "Wall time: 831 ms\n"
     ]
    }
   ],
   "source": [
    "%%time\n",
    "output_layer.to_file('h'+hexLevel+'_tj2021.gdb',driver='OpenFileGDB')"
   ]
  },
  {
   "cell_type": "code",
   "execution_count": 6,
   "id": "a977c23a-f409-4a7a-8ef9-e3cc47da69b7",
   "metadata": {},
   "outputs": [],
   "source": [
    "del joined_layer, output_layer"
   ]
  },
  {
   "cell_type": "markdown",
   "id": "e1bb8a93-ab04-439e-b857-d510752b2768",
   "metadata": {},
   "source": [
    "Hex to estuarine"
   ]
  },
  {
   "cell_type": "code",
   "execution_count": 7,
   "id": "e70f0199-581b-4b5c-aa6a-9b62f43e20f3",
   "metadata": {},
   "outputs": [
    {
     "name": "stdout",
     "output_type": "stream",
     "text": [
      "CPU times: total: 266 ms\n",
      "Wall time: 259 ms\n"
     ]
    }
   ],
   "source": [
    "%%time\n",
    "joined_layer = gpd.read_file(inputs_gdb, layer='Estuarine_Drainage_Areas')\n",
    "try:\n",
    "    joined_layer.drop(columns=['Shape_Length','Shape_Area'],inplace=True)\n",
    "except:\n",
    "    print('Layer already cleared')"
   ]
  },
  {
   "cell_type": "code",
   "execution_count": 8,
   "id": "a3aeb675-8712-4c68-acad-bc47c7c79b12",
   "metadata": {},
   "outputs": [
    {
     "name": "stdout",
     "output_type": "stream",
     "text": [
      "CPU times: total: 234 ms\n",
      "Wall time: 240 ms\n"
     ]
    }
   ],
   "source": [
    "%%time\n",
    "if not joined_layer.crs == base_layer.crs:\n",
    "        joined_layer = joined_layer.to_crs(base_layer.crs)\n",
    "\n",
    "output_layer = gpd.sjoin(base_layer, joined_layer, how=\"left\")\n",
    "\n",
    "if 'index_right' in output_layer.columns:\n",
    "        output_layer = output_layer.drop('index_right', axis=1)"
   ]
  },
  {
   "cell_type": "code",
   "execution_count": 9,
   "id": "62f27b13-79bc-424c-87cf-3c1825966bf5",
   "metadata": {},
   "outputs": [
    {
     "name": "stdout",
     "output_type": "stream",
     "text": [
      "CPU times: total: 562 ms\n",
      "Wall time: 584 ms\n"
     ]
    }
   ],
   "source": [
    "%%time\n",
    "output_layer.to_file('h'+hexLevel+'_Estuarine.gdb',driver='OpenFileGDB')"
   ]
  },
  {
   "cell_type": "code",
   "execution_count": 10,
   "id": "17090c89-8699-45f1-bcbc-42c49e7bd0da",
   "metadata": {},
   "outputs": [],
   "source": [
    "del joined_layer, output_layer"
   ]
  },
  {
   "cell_type": "markdown",
   "id": "5636ce31-f136-4399-9c65-fa13c305ed1b",
   "metadata": {},
   "source": [
    "Hex to huc8"
   ]
  },
  {
   "cell_type": "code",
   "execution_count": 11,
   "id": "a5b36282-311c-4597-8733-5ce1f3d6339f",
   "metadata": {},
   "outputs": [
    {
     "name": "stdout",
     "output_type": "stream",
     "text": [
      "CPU times: total: 24.1 s\n",
      "Wall time: 24.2 s\n"
     ]
    }
   ],
   "source": [
    "%%time\n",
    "joined_layer = gpd.read_file(inputs_gdb, layer='WBDHU8')\n",
    "try:\n",
    "    joined_layer.drop(columns=['Shape_Length','Shape_Area'],inplace=True)\n",
    "except:\n",
    "    print('Layer already cleared')"
   ]
  },
  {
   "cell_type": "code",
   "execution_count": 12,
   "id": "6e9ddedf-e05f-40a3-a3b0-6a71eaccaf92",
   "metadata": {},
   "outputs": [
    {
     "name": "stdout",
     "output_type": "stream",
     "text": [
      "CPU times: total: 1.19 s\n",
      "Wall time: 1.18 s\n"
     ]
    }
   ],
   "source": [
    "%%time\n",
    "if not joined_layer.crs == base_layer.crs:\n",
    "        joined_layer = joined_layer.to_crs(base_layer.crs)\n",
    "\n",
    "output_layer = gpd.sjoin(base_layer, joined_layer, how=\"left\")\n",
    "\n",
    "if 'index_right' in output_layer.columns:\n",
    "        output_layer = output_layer.drop('index_right', axis=1)"
   ]
  },
  {
   "cell_type": "code",
   "execution_count": 13,
   "id": "52c76862-f656-4239-a7a2-8254a09da4e0",
   "metadata": {},
   "outputs": [
    {
     "name": "stdout",
     "output_type": "stream",
     "text": [
      "CPU times: total: 703 ms\n",
      "Wall time: 705 ms\n"
     ]
    }
   ],
   "source": [
    "%%time\n",
    "output_layer.to_file('h'+hexLevel+'_WBDHU8.gdb',driver='OpenFileGDB')"
   ]
  },
  {
   "cell_type": "code",
   "execution_count": 14,
   "id": "2a0fc8f2-19f7-4169-b416-3ad9215476cf",
   "metadata": {},
   "outputs": [],
   "source": [
    "del joined_layer, output_layer"
   ]
  },
  {
   "cell_type": "markdown",
   "id": "130ced98-3727-4e4b-8c26-41b53364cda6",
   "metadata": {},
   "source": [
    "Hex to census"
   ]
  },
  {
   "cell_type": "code",
   "execution_count": 15,
   "id": "3338bb2c-4e20-4eaf-8d44-fd66f35471b6",
   "metadata": {},
   "outputs": [
    {
     "name": "stdout",
     "output_type": "stream",
     "text": [
      "CPU times: total: 8.83 s\n",
      "Wall time: 8.83 s\n"
     ]
    }
   ],
   "source": [
    "%%time\n",
    "joined_layer = gpd.read_file(inputs_gdb, layer='dtl_cnty_Census_ESRI')\n",
    "try:\n",
    "    joined_layer.drop(columns=['Shape_Length','Shape_Area'],inplace=True)\n",
    "except:\n",
    "    print('Layer already cleared')"
   ]
  },
  {
   "cell_type": "code",
   "execution_count": 16,
   "id": "4a694914-ea52-49dc-acca-d059fbb5347a",
   "metadata": {},
   "outputs": [
    {
     "name": "stdout",
     "output_type": "stream",
     "text": [
      "CPU times: total: 5.39 s\n",
      "Wall time: 5.39 s\n"
     ]
    }
   ],
   "source": [
    "%%time\n",
    "if not joined_layer.crs == base_layer.crs:\n",
    "        joined_layer = joined_layer.to_crs(base_layer.crs)\n",
    "\n",
    "output_layer = gpd.sjoin(base_layer, joined_layer, how=\"left\")\n",
    "\n",
    "if 'index_right' in output_layer.columns:\n",
    "        output_layer = output_layer.drop('index_right', axis=1)"
   ]
  },
  {
   "cell_type": "code",
   "execution_count": 17,
   "id": "f44eef58-b774-4b45-b0da-2700df03afdb",
   "metadata": {},
   "outputs": [
    {
     "name": "stdout",
     "output_type": "stream",
     "text": [
      "CPU times: total: 688 ms\n",
      "Wall time: 690 ms\n"
     ]
    }
   ],
   "source": [
    "%%time\n",
    "output_layer.to_file('h'+hexLevel+'_Census.gdb',driver='OpenFileGDB')"
   ]
  },
  {
   "cell_type": "code",
   "execution_count": 18,
   "id": "39220486-fe6f-4810-865c-19f0063b73f6",
   "metadata": {},
   "outputs": [],
   "source": [
    "del joined_layer, output_layer"
   ]
  },
  {
   "cell_type": "markdown",
   "id": "5d1ceec6-e7ae-4693-b0ef-d147ef1aee24",
   "metadata": {},
   "source": [
    "Hex to huc12"
   ]
  },
  {
   "cell_type": "code",
   "execution_count": 19,
   "id": "cdb95121-b0bf-4ee3-8db9-acb50df89288",
   "metadata": {},
   "outputs": [
    {
     "name": "stdout",
     "output_type": "stream",
     "text": [
      "CPU times: total: 8.66 s\n",
      "Wall time: 8.68 s\n"
     ]
    }
   ],
   "source": [
    "%%time\n",
    "joined_layer = gpd.read_file(inputs_gdb, layer='WBDHU12')\n",
    "try:\n",
    "    joined_layer.drop(columns=['Shape_Length','Shape_Area'],inplace=True)\n",
    "except:\n",
    "    print('Layer already cleared')"
   ]
  },
  {
   "cell_type": "code",
   "execution_count": 20,
   "id": "633967b9-7a8e-45f9-b4d4-d35abce04d6f",
   "metadata": {},
   "outputs": [
    {
     "name": "stdout",
     "output_type": "stream",
     "text": [
      "CPU times: total: 703 ms\n",
      "Wall time: 665 ms\n"
     ]
    }
   ],
   "source": [
    "%%time\n",
    "if not joined_layer.crs == base_layer.crs:\n",
    "        joined_layer = joined_layer.to_crs(base_layer.crs)\n",
    "\n",
    "output_layer = gpd.sjoin(base_layer, joined_layer, how=\"left\")\n",
    "\n",
    "if 'index_right' in output_layer.columns:\n",
    "        output_layer = output_layer.drop('index_right', axis=1)"
   ]
  },
  {
   "cell_type": "code",
   "execution_count": 21,
   "id": "f519bcef-378d-4c57-a5ba-6fa3816e3dfc",
   "metadata": {},
   "outputs": [
    {
     "name": "stdout",
     "output_type": "stream",
     "text": [
      "CPU times: total: 1.59 s\n",
      "Wall time: 1.62 s\n"
     ]
    }
   ],
   "source": [
    "%%time\n",
    "output_layer.to_file('h'+hexLevel+'_WBDHU12.gdb',driver='OpenFileGDB')"
   ]
  },
  {
   "cell_type": "code",
   "execution_count": 22,
   "id": "dca3bf34-e86a-446d-af14-9efab0dca402",
   "metadata": {},
   "outputs": [],
   "source": [
    "del joined_layer, output_layer"
   ]
  },
  {
   "cell_type": "markdown",
   "id": "3a7bce54-fe6e-4cb6-96e4-b082a1220387",
   "metadata": {},
   "source": [
    "Hex to all at once"
   ]
  },
  {
   "cell_type": "code",
   "execution_count": 23,
   "id": "586fe319-9e51-4009-9070-7eaa8c291a52",
   "metadata": {},
   "outputs": [
    {
     "name": "stdout",
     "output_type": "stream",
     "text": [
      "CPU times: total: 43.7 s\n",
      "Wall time: 43.8 s\n"
     ]
    }
   ],
   "source": [
    "%%time\n",
    "layers_to_join = ['tj_2021_us_st_cnt', 'Estuarine_Drainage_Areas', 'WBDHU8', 'dtl_cnty_Census_ESRI', 'WBDHU12']\n",
    "layer_gdfs = {layer: gpd.read_file(inputs_gdb, layer=layer) for layer in layers_to_join}"
   ]
  },
  {
   "cell_type": "code",
   "execution_count": 24,
   "id": "60ccb602-9057-4928-94b4-d3e229972a15",
   "metadata": {},
   "outputs": [
    {
     "name": "stdout",
     "output_type": "stream",
     "text": [
      "CPU times: total: 23 s\n",
      "Wall time: 23 s\n"
     ]
    }
   ],
   "source": [
    "%%time\n",
    "for name, gdf in layer_gdfs.items():\n",
    "    # Ensure the CRS is the same between the base layer and the current layer\n",
    "    if not gdf.crs == base_layer.crs:\n",
    "        gdf = gdf.to_crs(base_layer.crs)\n",
    "    if 'Shape_Length' in gdf.columns:\n",
    "        gdf.drop('Shape_Length', axis=1, inplace=True)\n",
    "    if 'Shape_Area' in gdf.columns:\n",
    "        gdf.drop('Shape_Area', axis=1, inplace=True)\n",
    "\n",
    "    # Perform spatial join (inner join by default)\n",
    "    base_layer = gpd.sjoin(base_layer, gdf, how=\"left\")\n",
    "    \n",
    "    # Drop the `index_right` column if it exists\n",
    "    if 'index_right' in base_layer.columns:\n",
    "        base_layer.drop('index_right', axis=1, inplace=True)"
   ]
  },
  {
   "cell_type": "code",
   "execution_count": 25,
   "id": "05d4c12f-654e-4118-8466-74cb37374c98",
   "metadata": {},
   "outputs": [
    {
     "name": "stdout",
     "output_type": "stream",
     "text": [
      "CPU times: total: 23.4 s\n",
      "Wall time: 23.4 s\n"
     ]
    }
   ],
   "source": [
    "%%time\n",
    "base_layer.to_file('h'+hexLevel+'_allAtOnce.gdb',driver='OpenFileGDB')"
   ]
  },
  {
   "cell_type": "code",
   "execution_count": 26,
   "id": "dd4db916-2633-483f-85be-f59ad6a549c4",
   "metadata": {},
   "outputs": [],
   "source": [
    "del layers_to_join, layer_gdfs, gdf, base_layer"
   ]
  },
  {
   "cell_type": "markdown",
   "id": "b5ca5c2b-50e7-4e6d-a10a-0d61e626a188",
   "metadata": {},
   "source": [
    "# HEX 6"
   ]
  },
  {
   "cell_type": "markdown",
   "id": "fa832f90-2fbf-40ef-9663-cb79d49050da",
   "metadata": {},
   "source": [
    "Hex imports"
   ]
  },
  {
   "cell_type": "code",
   "execution_count": 27,
   "id": "417d80e7-f795-43db-b8e4-c95d409bb8ba",
   "metadata": {},
   "outputs": [
    {
     "name": "stdout",
     "output_type": "stream",
     "text": [
      "CPU times: total: 4.25 s\n",
      "Wall time: 4.24 s\n"
     ]
    }
   ],
   "source": [
    "%%time\n",
    "# Define the path to the geodatabase\n",
    "inputs_gdb = r'C://Research/Grid_effort/H3Grid_Inputs.gdb'\n",
    "hex_gdb = r\"C://Research/Grid_effort/H3_5_10_Grd.gdb\"\n",
    "hexLevel = '6'\n",
    "\n",
    "# Read in the H3_5 polygon grid layer as the base layer\n",
    "base_layer = gpd.read_file(hex_gdb, layer='H3_'+hexLevel)\n",
    "base_layer.drop(columns=['Shape_Length','Shape_Area'],inplace=True)"
   ]
  },
  {
   "cell_type": "markdown",
   "id": "b33ffa55-eaa9-45c6-aa7b-601925f702cc",
   "metadata": {},
   "source": [
    "Hex to counties"
   ]
  },
  {
   "cell_type": "code",
   "execution_count": 28,
   "id": "034b58e1-aa52-470c-b878-72bd656b7b5c",
   "metadata": {},
   "outputs": [
    {
     "name": "stdout",
     "output_type": "stream",
     "text": [
      "CPU times: total: 1.56 s\n",
      "Wall time: 1.55 s\n"
     ]
    }
   ],
   "source": [
    "%%time\n",
    "joined_layer = gpd.read_file(inputs_gdb, layer='tj_2021_us_st_cnt')\n",
    "try:\n",
    "    joined_layer.drop(columns=['Shape_Length','Shape_Area'],inplace=True)\n",
    "except:\n",
    "    print('Layer already cleared')"
   ]
  },
  {
   "cell_type": "code",
   "execution_count": 29,
   "id": "ed6b209f-421a-4c3f-88c0-4c063c1b56cf",
   "metadata": {},
   "outputs": [
    {
     "name": "stdout",
     "output_type": "stream",
     "text": [
      "CPU times: total: 2.05 s\n",
      "Wall time: 2.05 s\n"
     ]
    }
   ],
   "source": [
    "%%time\n",
    "if not joined_layer.crs == base_layer.crs:\n",
    "        joined_layer = joined_layer.to_crs(base_layer.crs)\n",
    "\n",
    "output_layer = gpd.sjoin(base_layer, joined_layer, how=\"left\")\n",
    "\n",
    "if 'index_right' in output_layer.columns:\n",
    "        output_layer = output_layer.drop('index_right', axis=1)"
   ]
  },
  {
   "cell_type": "code",
   "execution_count": 30,
   "id": "89130ef7-a72f-4a4d-ba3b-cccaa3e030c2",
   "metadata": {},
   "outputs": [
    {
     "name": "stdout",
     "output_type": "stream",
     "text": [
      "CPU times: total: 4.12 s\n",
      "Wall time: 4.13 s\n"
     ]
    }
   ],
   "source": [
    "%%time\n",
    "output_layer.to_file('h'+hexLevel+'_tj2021.gdb',driver='OpenFileGDB')"
   ]
  },
  {
   "cell_type": "code",
   "execution_count": 31,
   "id": "edcb9147-875c-4bbb-ac05-e57e506ce934",
   "metadata": {},
   "outputs": [],
   "source": [
    "del joined_layer, output_layer"
   ]
  },
  {
   "cell_type": "markdown",
   "id": "f35c2f3e-6bb8-46ac-a252-88df38745101",
   "metadata": {},
   "source": [
    "Hex to estuarine"
   ]
  },
  {
   "cell_type": "code",
   "execution_count": 32,
   "id": "c439e88c-0beb-4a8e-8205-53150e93b66f",
   "metadata": {},
   "outputs": [
    {
     "name": "stdout",
     "output_type": "stream",
     "text": [
      "CPU times: total: 234 ms\n",
      "Wall time: 226 ms\n"
     ]
    }
   ],
   "source": [
    "%%time\n",
    "joined_layer = gpd.read_file(inputs_gdb, layer='Estuarine_Drainage_Areas')\n",
    "try:\n",
    "    joined_layer.drop(columns=['Shape_Length','Shape_Area'],inplace=True)\n",
    "except:\n",
    "    print('Layer already cleared')"
   ]
  },
  {
   "cell_type": "code",
   "execution_count": 33,
   "id": "2bbee9c0-74fa-4ca9-b038-c340da6d044c",
   "metadata": {},
   "outputs": [
    {
     "name": "stdout",
     "output_type": "stream",
     "text": [
      "CPU times: total: 1.3 s\n",
      "Wall time: 1.3 s\n"
     ]
    }
   ],
   "source": [
    "%%time\n",
    "if not joined_layer.crs == base_layer.crs:\n",
    "        joined_layer = joined_layer.to_crs(base_layer.crs)\n",
    "\n",
    "output_layer = gpd.sjoin(base_layer, joined_layer, how=\"left\")\n",
    "\n",
    "if 'index_right' in output_layer.columns:\n",
    "        output_layer = output_layer.drop('index_right', axis=1)"
   ]
  },
  {
   "cell_type": "code",
   "execution_count": 34,
   "id": "d2dfb346-ae68-4b0a-8b51-8979fd9c4ec2",
   "metadata": {},
   "outputs": [
    {
     "name": "stdout",
     "output_type": "stream",
     "text": [
      "CPU times: total: 3.38 s\n",
      "Wall time: 3.38 s\n"
     ]
    }
   ],
   "source": [
    "%%time\n",
    "output_layer.to_file('h'+hexLevel+'_Estuarine.gdb',driver='OpenFileGDB')"
   ]
  },
  {
   "cell_type": "code",
   "execution_count": 35,
   "id": "b94b80c8-24bc-4b01-a1aa-eec5901f8d41",
   "metadata": {},
   "outputs": [],
   "source": [
    "del joined_layer, output_layer"
   ]
  },
  {
   "cell_type": "markdown",
   "id": "604d7312-8a71-41cd-aa1a-e356c8a0d49f",
   "metadata": {},
   "source": [
    "Hex to huc8"
   ]
  },
  {
   "cell_type": "code",
   "execution_count": 36,
   "id": "4957d9b3-c992-4a31-9c5d-c2ea1be3c438",
   "metadata": {},
   "outputs": [
    {
     "name": "stdout",
     "output_type": "stream",
     "text": [
      "CPU times: total: 25.6 s\n",
      "Wall time: 25.6 s\n"
     ]
    }
   ],
   "source": [
    "%%time\n",
    "joined_layer = gpd.read_file(inputs_gdb, layer='WBDHU8')\n",
    "try:\n",
    "    joined_layer.drop(columns=['Shape_Length','Shape_Area'],inplace=True)\n",
    "except:\n",
    "    print('Layer already cleared')"
   ]
  },
  {
   "cell_type": "code",
   "execution_count": 37,
   "id": "6370c4c5-76e6-47b9-b1ba-8b2682eedf53",
   "metadata": {},
   "outputs": [
    {
     "name": "stdout",
     "output_type": "stream",
     "text": [
      "CPU times: total: 6.5 s\n",
      "Wall time: 6.51 s\n"
     ]
    }
   ],
   "source": [
    "%%time\n",
    "if not joined_layer.crs == base_layer.crs:\n",
    "        joined_layer = joined_layer.to_crs(base_layer.crs)\n",
    "\n",
    "output_layer = gpd.sjoin(base_layer, joined_layer, how=\"left\")\n",
    "\n",
    "if 'index_right' in output_layer.columns:\n",
    "        output_layer = output_layer.drop('index_right', axis=1)"
   ]
  },
  {
   "cell_type": "code",
   "execution_count": 38,
   "id": "8f3f5eb4-0a9e-4032-b0eb-926587d96161",
   "metadata": {},
   "outputs": [
    {
     "name": "stdout",
     "output_type": "stream",
     "text": [
      "CPU times: total: 3.7 s\n",
      "Wall time: 3.69 s\n"
     ]
    }
   ],
   "source": [
    "%%time\n",
    "output_layer.to_file('h'+hexLevel+'_WBDHU8.gdb',driver='OpenFileGDB')"
   ]
  },
  {
   "cell_type": "code",
   "execution_count": 39,
   "id": "99e1b038-e255-422f-ac44-c94ffc835e01",
   "metadata": {},
   "outputs": [],
   "source": [
    "del joined_layer, output_layer"
   ]
  },
  {
   "cell_type": "markdown",
   "id": "e6853c6a-9729-463f-baf9-d9fc6884b40d",
   "metadata": {},
   "source": [
    "Hex to census"
   ]
  },
  {
   "cell_type": "code",
   "execution_count": 40,
   "id": "05c42c67-547d-4feb-9141-5cc5569cdf91",
   "metadata": {},
   "outputs": [
    {
     "name": "stdout",
     "output_type": "stream",
     "text": [
      "CPU times: total: 9.2 s\n",
      "Wall time: 9.21 s\n"
     ]
    }
   ],
   "source": [
    "%%time\n",
    "joined_layer = gpd.read_file(inputs_gdb, layer='dtl_cnty_Census_ESRI')\n",
    "try:\n",
    "    joined_layer.drop(columns=['Shape_Length','Shape_Area'],inplace=True)\n",
    "except:\n",
    "    print('Layer already cleared')"
   ]
  },
  {
   "cell_type": "code",
   "execution_count": 41,
   "id": "dd6b7984-741a-4e3f-a712-084d8d84910f",
   "metadata": {},
   "outputs": [
    {
     "name": "stdout",
     "output_type": "stream",
     "text": [
      "CPU times: total: 35.7 s\n",
      "Wall time: 35.7 s\n"
     ]
    }
   ],
   "source": [
    "%%time\n",
    "if not joined_layer.crs == base_layer.crs:\n",
    "        joined_layer = joined_layer.to_crs(base_layer.crs)\n",
    "\n",
    "output_layer = gpd.sjoin(base_layer, joined_layer, how=\"left\")\n",
    "\n",
    "if 'index_right' in output_layer.columns:\n",
    "        output_layer = output_layer.drop('index_right', axis=1)"
   ]
  },
  {
   "cell_type": "code",
   "execution_count": 42,
   "id": "10a4f41b-bd81-4a6c-8605-b7e2997429af",
   "metadata": {},
   "outputs": [
    {
     "name": "stdout",
     "output_type": "stream",
     "text": [
      "CPU times: total: 3.8 s\n",
      "Wall time: 3.9 s\n"
     ]
    }
   ],
   "source": [
    "%%time\n",
    "output_layer.to_file('h'+hexLevel+'_Census.gdb',driver='OpenFileGDB')"
   ]
  },
  {
   "cell_type": "code",
   "execution_count": 43,
   "id": "07aedc1c-aaf6-44a3-89f3-4c2df479c1dc",
   "metadata": {},
   "outputs": [],
   "source": [
    "del joined_layer, output_layer"
   ]
  },
  {
   "cell_type": "markdown",
   "id": "5bd7d4e6-9055-4426-b572-483d3c92910d",
   "metadata": {},
   "source": [
    "Hex to huc12"
   ]
  },
  {
   "cell_type": "code",
   "execution_count": 44,
   "id": "c0e8c119-233c-4f95-8cc6-be2bc1882fd0",
   "metadata": {},
   "outputs": [
    {
     "name": "stdout",
     "output_type": "stream",
     "text": [
      "CPU times: total: 8.86 s\n",
      "Wall time: 8.89 s\n"
     ]
    }
   ],
   "source": [
    "%%time\n",
    "joined_layer = gpd.read_file(inputs_gdb, layer='WBDHU12')\n",
    "try:\n",
    "    joined_layer.drop(columns=['Shape_Length','Shape_Area'],inplace=True)\n",
    "except:\n",
    "    print('Layer already cleared')"
   ]
  },
  {
   "cell_type": "code",
   "execution_count": 45,
   "id": "ca3999dd-d1eb-4af7-b38c-2c9fdf86b486",
   "metadata": {},
   "outputs": [
    {
     "name": "stdout",
     "output_type": "stream",
     "text": [
      "CPU times: total: 1.92 s\n",
      "Wall time: 1.92 s\n"
     ]
    }
   ],
   "source": [
    "%%time\n",
    "if not joined_layer.crs == base_layer.crs:\n",
    "        joined_layer = joined_layer.to_crs(base_layer.crs)\n",
    "\n",
    "output_layer = gpd.sjoin(base_layer, joined_layer, how=\"left\")\n",
    "\n",
    "if 'index_right' in output_layer.columns:\n",
    "        output_layer = output_layer.drop('index_right', axis=1)"
   ]
  },
  {
   "cell_type": "code",
   "execution_count": 46,
   "id": "c372351d-738e-4140-8f3b-89e714f7a0b6",
   "metadata": {},
   "outputs": [
    {
     "name": "stdout",
     "output_type": "stream",
     "text": [
      "CPU times: total: 5.5 s\n",
      "Wall time: 5.52 s\n"
     ]
    }
   ],
   "source": [
    "%%time\n",
    "output_layer.to_file('h'+hexLevel+'_WBDHU12.gdb',driver='OpenFileGDB')"
   ]
  },
  {
   "cell_type": "code",
   "execution_count": 47,
   "id": "0b07192c-e12a-4100-81c9-9548c49b5555",
   "metadata": {},
   "outputs": [],
   "source": [
    "del joined_layer, output_layer"
   ]
  },
  {
   "cell_type": "markdown",
   "id": "d1e105e6-1783-4dbe-a72f-b42c0c7986b4",
   "metadata": {},
   "source": [
    "Hex to all at once"
   ]
  },
  {
   "cell_type": "code",
   "execution_count": 48,
   "id": "be5f9da7-832d-4958-9f42-99520aff7263",
   "metadata": {},
   "outputs": [
    {
     "name": "stdout",
     "output_type": "stream",
     "text": [
      "CPU times: total: 46.2 s\n",
      "Wall time: 46.3 s\n"
     ]
    }
   ],
   "source": [
    "%%time\n",
    "layers_to_join = ['tj_2021_us_st_cnt', 'Estuarine_Drainage_Areas', 'WBDHU8', 'dtl_cnty_Census_ESRI', 'WBDHU12']\n",
    "layer_gdfs = {layer: gpd.read_file(inputs_gdb, layer=layer) for layer in layers_to_join}"
   ]
  },
  {
   "cell_type": "code",
   "execution_count": 49,
   "id": "d139427b-6d3f-4657-97a3-2535ce6dd297",
   "metadata": {},
   "outputs": [
    {
     "name": "stdout",
     "output_type": "stream",
     "text": [
      "CPU times: total: 1min 10s\n",
      "Wall time: 1min 10s\n"
     ]
    }
   ],
   "source": [
    "%%time\n",
    "for name, gdf in layer_gdfs.items():\n",
    "    # Ensure the CRS is the same between the base layer and the current layer\n",
    "    if not gdf.crs == base_layer.crs:\n",
    "        gdf = gdf.to_crs(base_layer.crs)\n",
    "    if 'Shape_Length' in gdf.columns:\n",
    "        gdf.drop('Shape_Length', axis=1, inplace=True)\n",
    "    if 'Shape_Area' in gdf.columns:\n",
    "        gdf.drop('Shape_Area', axis=1, inplace=True)\n",
    "\n",
    "    # Perform spatial join (inner join by default)\n",
    "    base_layer = gpd.sjoin(base_layer, gdf, how=\"left\")\n",
    "    \n",
    "    # Drop the `index_right` column if it exists\n",
    "    if 'index_right' in base_layer.columns:\n",
    "        base_layer.drop('index_right', axis=1, inplace=True)"
   ]
  },
  {
   "cell_type": "code",
   "execution_count": 50,
   "id": "395d96bb-3a31-43d9-a01a-70fbe88b1dec",
   "metadata": {},
   "outputs": [
    {
     "name": "stdout",
     "output_type": "stream",
     "text": [
      "CPU times: total: 20.6 s\n",
      "Wall time: 20.6 s\n"
     ]
    }
   ],
   "source": [
    "%%time\n",
    "base_layer.to_file('h'+hexLevel+'_allAtOnce.gdb',driver='OpenFileGDB')"
   ]
  },
  {
   "cell_type": "code",
   "execution_count": 51,
   "id": "c3ce264b-b126-45c9-93e2-d66a65b8dff1",
   "metadata": {},
   "outputs": [],
   "source": [
    "del layers_to_join, layer_gdfs, gdf, base_layer"
   ]
  },
  {
   "cell_type": "markdown",
   "id": "f2a969c0-37fe-4d5e-81f6-b9adfcea284a",
   "metadata": {},
   "source": [
    "# HEX 7"
   ]
  },
  {
   "cell_type": "markdown",
   "id": "4036b293-b074-417b-b957-f5e51e22d827",
   "metadata": {},
   "source": [
    "Hex imports"
   ]
  },
  {
   "cell_type": "code",
   "execution_count": 52,
   "id": "a1ca049a-9c21-4461-9f35-b8323a7c15dd",
   "metadata": {},
   "outputs": [
    {
     "name": "stdout",
     "output_type": "stream",
     "text": [
      "CPU times: total: 28.5 s\n",
      "Wall time: 28.5 s\n"
     ]
    }
   ],
   "source": [
    "%%time\n",
    "# Define the path to the geodatabase\n",
    "inputs_gdb = r'C://Research/Grid_effort/H3Grid_Inputs.gdb'\n",
    "hex_gdb = r\"C://Research/Grid_effort/H3_5_10_Grd.gdb\"\n",
    "hexLevel = '7'\n",
    "\n",
    "# Read in the H3_5 polygon grid layer as the base layer\n",
    "base_layer = gpd.read_file(hex_gdb, layer='H3_'+hexLevel)\n",
    "base_layer.drop(columns=['Shape_Length','Shape_Area'],inplace=True)"
   ]
  },
  {
   "cell_type": "markdown",
   "id": "c06151ba-15fd-4203-b107-48bfb22e4112",
   "metadata": {},
   "source": [
    "Hex to counties"
   ]
  },
  {
   "cell_type": "code",
   "execution_count": 53,
   "id": "243c4f45-bdc1-4356-a9ed-bbb20d04c105",
   "metadata": {},
   "outputs": [
    {
     "name": "stdout",
     "output_type": "stream",
     "text": [
      "CPU times: total: 1.67 s\n",
      "Wall time: 1.68 s\n"
     ]
    }
   ],
   "source": [
    "%%time\n",
    "joined_layer = gpd.read_file(inputs_gdb, layer='tj_2021_us_st_cnt')\n",
    "try:\n",
    "    joined_layer.drop(columns=['Shape_Length','Shape_Area'],inplace=True)\n",
    "except:\n",
    "    print('Layer already cleared')"
   ]
  },
  {
   "cell_type": "code",
   "execution_count": 54,
   "id": "fac0860a-6ef2-4195-9f70-3bf0ac8ba45c",
   "metadata": {},
   "outputs": [
    {
     "name": "stdout",
     "output_type": "stream",
     "text": [
      "CPU times: total: 13.5 s\n",
      "Wall time: 13.4 s\n"
     ]
    }
   ],
   "source": [
    "%%time\n",
    "if not joined_layer.crs == base_layer.crs:\n",
    "        joined_layer = joined_layer.to_crs(base_layer.crs)\n",
    "\n",
    "output_layer = gpd.sjoin(base_layer, joined_layer, how=\"left\")\n",
    "\n",
    "if 'index_right' in output_layer.columns:\n",
    "        output_layer = output_layer.drop('index_right', axis=1)"
   ]
  },
  {
   "cell_type": "code",
   "execution_count": 55,
   "id": "e4dda8b3-53fd-4819-8853-7dbcee44b30e",
   "metadata": {},
   "outputs": [
    {
     "name": "stdout",
     "output_type": "stream",
     "text": [
      "CPU times: total: 26 s\n",
      "Wall time: 26.1 s\n"
     ]
    }
   ],
   "source": [
    "%%time\n",
    "output_layer.to_file('h'+hexLevel+'_tj2021.gdb',driver='OpenFileGDB')"
   ]
  },
  {
   "cell_type": "code",
   "execution_count": 56,
   "id": "28560b27-08b8-49d8-b801-de75daeecf72",
   "metadata": {},
   "outputs": [],
   "source": [
    "del joined_layer, output_layer"
   ]
  },
  {
   "cell_type": "markdown",
   "id": "707cbd44-dc0a-4b78-be0b-c71411f2c15c",
   "metadata": {},
   "source": [
    "Hex to estuarine"
   ]
  },
  {
   "cell_type": "code",
   "execution_count": 57,
   "id": "7d37dad3-fb8e-4856-a21e-702f13ab9187",
   "metadata": {},
   "outputs": [
    {
     "name": "stdout",
     "output_type": "stream",
     "text": [
      "CPU times: total: 188 ms\n",
      "Wall time: 179 ms\n"
     ]
    }
   ],
   "source": [
    "%%time\n",
    "joined_layer = gpd.read_file(inputs_gdb, layer='Estuarine_Drainage_Areas')\n",
    "try:\n",
    "    joined_layer.drop(columns=['Shape_Length','Shape_Area'],inplace=True)\n",
    "except:\n",
    "    print('Layer already cleared')"
   ]
  },
  {
   "cell_type": "code",
   "execution_count": 58,
   "id": "2d8cf037-4839-4eaa-9982-fa0c1666c4c7",
   "metadata": {},
   "outputs": [
    {
     "name": "stdout",
     "output_type": "stream",
     "text": [
      "CPU times: total: 9.31 s\n",
      "Wall time: 9.32 s\n"
     ]
    }
   ],
   "source": [
    "%%time\n",
    "if not joined_layer.crs == base_layer.crs:\n",
    "        joined_layer = joined_layer.to_crs(base_layer.crs)\n",
    "\n",
    "output_layer = gpd.sjoin(base_layer, joined_layer, how=\"left\")\n",
    "\n",
    "if 'index_right' in output_layer.columns:\n",
    "        output_layer = output_layer.drop('index_right', axis=1)"
   ]
  },
  {
   "cell_type": "code",
   "execution_count": 59,
   "id": "6e4271e0-a429-4463-834e-ee9478ac68e5",
   "metadata": {},
   "outputs": [
    {
     "name": "stdout",
     "output_type": "stream",
     "text": [
      "CPU times: total: 22.7 s\n",
      "Wall time: 22.7 s\n"
     ]
    }
   ],
   "source": [
    "%%time\n",
    "output_layer.to_file('h'+hexLevel+'_Estuarine.gdb',driver='OpenFileGDB')"
   ]
  },
  {
   "cell_type": "code",
   "execution_count": 60,
   "id": "e75007a9-fda7-401d-8c6a-5be75281281f",
   "metadata": {},
   "outputs": [],
   "source": [
    "del joined_layer, output_layer"
   ]
  },
  {
   "cell_type": "markdown",
   "id": "2c447baf-7c30-40e2-be48-4957822a34c8",
   "metadata": {},
   "source": [
    "Hex to huc8"
   ]
  },
  {
   "cell_type": "code",
   "execution_count": 61,
   "id": "f8fead6c-fe78-4361-b6ea-f26de728669a",
   "metadata": {},
   "outputs": [
    {
     "name": "stdout",
     "output_type": "stream",
     "text": [
      "CPU times: total: 30 s\n",
      "Wall time: 30 s\n"
     ]
    }
   ],
   "source": [
    "%%time\n",
    "joined_layer = gpd.read_file(inputs_gdb, layer='WBDHU8')\n",
    "try:\n",
    "    joined_layer.drop(columns=['Shape_Length','Shape_Area'],inplace=True)\n",
    "except:\n",
    "    print('Layer already cleared')"
   ]
  },
  {
   "cell_type": "code",
   "execution_count": 62,
   "id": "662fb1ed-259d-421b-8015-17c58b3c6aec",
   "metadata": {},
   "outputs": [
    {
     "name": "stdout",
     "output_type": "stream",
     "text": [
      "CPU times: total: 43.3 s\n",
      "Wall time: 43.4 s\n"
     ]
    }
   ],
   "source": [
    "%%time\n",
    "if not joined_layer.crs == base_layer.crs:\n",
    "        joined_layer = joined_layer.to_crs(base_layer.crs)\n",
    "\n",
    "output_layer = gpd.sjoin(base_layer, joined_layer, how=\"left\")\n",
    "\n",
    "if 'index_right' in output_layer.columns:\n",
    "        output_layer = output_layer.drop('index_right', axis=1)"
   ]
  },
  {
   "cell_type": "code",
   "execution_count": 63,
   "id": "4ba29dbf-6e4a-4e2c-adee-b64b9e9e8272",
   "metadata": {},
   "outputs": [
    {
     "name": "stdout",
     "output_type": "stream",
     "text": [
      "CPU times: total: 23.1 s\n",
      "Wall time: 23.1 s\n"
     ]
    }
   ],
   "source": [
    "%%time\n",
    "output_layer.to_file('h'+hexLevel+'_WBDHU8.gdb',driver='OpenFileGDB')"
   ]
  },
  {
   "cell_type": "code",
   "execution_count": 64,
   "id": "cfae460e-127a-4dd5-9123-a823bb8cc527",
   "metadata": {},
   "outputs": [],
   "source": [
    "del joined_layer, output_layer"
   ]
  },
  {
   "cell_type": "markdown",
   "id": "1edb383f-3b58-46a5-9f5b-6578c22fbde2",
   "metadata": {},
   "source": [
    "Hex to census"
   ]
  },
  {
   "cell_type": "code",
   "execution_count": 65,
   "id": "58d0df85-72a7-4f0b-8565-daa88b3b60a9",
   "metadata": {},
   "outputs": [
    {
     "name": "stdout",
     "output_type": "stream",
     "text": [
      "CPU times: total: 10.2 s\n",
      "Wall time: 10.3 s\n"
     ]
    }
   ],
   "source": [
    "%%time\n",
    "joined_layer = gpd.read_file(inputs_gdb, layer='dtl_cnty_Census_ESRI')\n",
    "try:\n",
    "    joined_layer.drop(columns=['Shape_Length','Shape_Area'],inplace=True)\n",
    "except:\n",
    "    print('Layer already cleared')"
   ]
  },
  {
   "cell_type": "code",
   "execution_count": 66,
   "id": "63a68ed8-1239-4866-8bf6-d4ee74e239c3",
   "metadata": {},
   "outputs": [
    {
     "name": "stdout",
     "output_type": "stream",
     "text": [
      "CPU times: total: 4min 12s\n",
      "Wall time: 4min 12s\n"
     ]
    }
   ],
   "source": [
    "%%time\n",
    "if not joined_layer.crs == base_layer.crs:\n",
    "        joined_layer = joined_layer.to_crs(base_layer.crs)\n",
    "\n",
    "output_layer = gpd.sjoin(base_layer, joined_layer, how=\"left\")\n",
    "\n",
    "if 'index_right' in output_layer.columns:\n",
    "        output_layer = output_layer.drop('index_right', axis=1)"
   ]
  },
  {
   "cell_type": "code",
   "execution_count": 67,
   "id": "b491faaa-294b-42c4-b32f-9f9c33819bda",
   "metadata": {},
   "outputs": [
    {
     "name": "stdout",
     "output_type": "stream",
     "text": [
      "CPU times: total: 23.4 s\n",
      "Wall time: 23.5 s\n"
     ]
    }
   ],
   "source": [
    "%%time\n",
    "output_layer.to_file('h'+hexLevel+'_Census.gdb',driver='OpenFileGDB')"
   ]
  },
  {
   "cell_type": "code",
   "execution_count": 68,
   "id": "00f71f18-cf28-4e9e-a6c6-3005f3e95653",
   "metadata": {},
   "outputs": [],
   "source": [
    "del joined_layer, output_layer"
   ]
  },
  {
   "cell_type": "markdown",
   "id": "d47d70e2-f455-4b34-875b-771e31726f3e",
   "metadata": {},
   "source": [
    "Hex to huc12"
   ]
  },
  {
   "cell_type": "code",
   "execution_count": 69,
   "id": "d053b2a5-94e8-4c73-8263-dbefe2c74c53",
   "metadata": {},
   "outputs": [
    {
     "name": "stdout",
     "output_type": "stream",
     "text": [
      "CPU times: total: 9.11 s\n",
      "Wall time: 9.09 s\n"
     ]
    }
   ],
   "source": [
    "%%time\n",
    "joined_layer = gpd.read_file(inputs_gdb, layer='WBDHU12')\n",
    "try:\n",
    "    joined_layer.drop(columns=['Shape_Length','Shape_Area'],inplace=True)\n",
    "except:\n",
    "    print('Layer already cleared')"
   ]
  },
  {
   "cell_type": "code",
   "execution_count": 70,
   "id": "e766ff63-0195-4b26-a1eb-78ca381d134c",
   "metadata": {},
   "outputs": [
    {
     "name": "stdout",
     "output_type": "stream",
     "text": [
      "CPU times: total: 9.39 s\n",
      "Wall time: 9.38 s\n"
     ]
    }
   ],
   "source": [
    "%%time\n",
    "if not joined_layer.crs == base_layer.crs:\n",
    "        joined_layer = joined_layer.to_crs(base_layer.crs)\n",
    "\n",
    "output_layer = gpd.sjoin(base_layer, joined_layer, how=\"left\")\n",
    "\n",
    "if 'index_right' in output_layer.columns:\n",
    "        output_layer = output_layer.drop('index_right', axis=1)"
   ]
  },
  {
   "cell_type": "code",
   "execution_count": 71,
   "id": "7b49cc98-2281-43c7-b331-3ec839e951aa",
   "metadata": {},
   "outputs": [
    {
     "name": "stdout",
     "output_type": "stream",
     "text": [
      "CPU times: total: 27.9 s\n",
      "Wall time: 27.9 s\n"
     ]
    }
   ],
   "source": [
    "%%time\n",
    "output_layer.to_file('h'+hexLevel+'_WBDHU12.gdb',driver='OpenFileGDB')"
   ]
  },
  {
   "cell_type": "code",
   "execution_count": 72,
   "id": "13adc711-3d2a-4d3f-8266-93a909f1ac17",
   "metadata": {},
   "outputs": [],
   "source": [
    "del joined_layer, output_layer"
   ]
  },
  {
   "cell_type": "markdown",
   "id": "391bce0d-b27c-4861-a548-a88701ce3491",
   "metadata": {},
   "source": [
    "Hex to all at once"
   ]
  },
  {
   "cell_type": "code",
   "execution_count": 73,
   "id": "411a81e6-57f0-4abe-a1c3-9a8361341b1c",
   "metadata": {},
   "outputs": [
    {
     "name": "stdout",
     "output_type": "stream",
     "text": [
      "CPU times: total: 50.8 s\n",
      "Wall time: 50.8 s\n"
     ]
    }
   ],
   "source": [
    "%%time\n",
    "layers_to_join = ['tj_2021_us_st_cnt', 'Estuarine_Drainage_Areas', 'WBDHU8', 'dtl_cnty_Census_ESRI', 'WBDHU12']\n",
    "layer_gdfs = {layer: gpd.read_file(inputs_gdb, layer=layer) for layer in layers_to_join}"
   ]
  },
  {
   "cell_type": "code",
   "execution_count": 74,
   "id": "9ec3839b-7d13-4070-9939-fb4c64d64567",
   "metadata": {},
   "outputs": [
    {
     "name": "stdout",
     "output_type": "stream",
     "text": [
      "CPU times: total: 6min 18s\n",
      "Wall time: 6min 18s\n"
     ]
    }
   ],
   "source": [
    "%%time\n",
    "for name, gdf in layer_gdfs.items():\n",
    "    # Ensure the CRS is the same between the base layer and the current layer\n",
    "    if not gdf.crs == base_layer.crs:\n",
    "        gdf = gdf.to_crs(base_layer.crs)\n",
    "    if 'Shape_Length' in gdf.columns:\n",
    "        gdf.drop('Shape_Length', axis=1, inplace=True)\n",
    "    if 'Shape_Area' in gdf.columns:\n",
    "        gdf.drop('Shape_Area', axis=1, inplace=True)\n",
    "\n",
    "    # Perform spatial join (inner join by default)\n",
    "    base_layer = gpd.sjoin(base_layer, gdf, how=\"left\")\n",
    "    \n",
    "    # Drop the `index_right` column if it exists\n",
    "    if 'index_right' in base_layer.columns:\n",
    "        base_layer.drop('index_right', axis=1, inplace=True)"
   ]
  },
  {
   "cell_type": "code",
   "execution_count": 75,
   "id": "847bac44-bbe1-4baf-88e4-6d29d740c752",
   "metadata": {},
   "outputs": [
    {
     "name": "stdout",
     "output_type": "stream",
     "text": [
      "CPU times: total: 54.6 s\n",
      "Wall time: 54.7 s\n"
     ]
    }
   ],
   "source": [
    "%%time\n",
    "base_layer.to_file('h'+hexLevel+'_allAtOnce.gdb',driver='OpenFileGDB')"
   ]
  },
  {
   "cell_type": "code",
   "execution_count": 76,
   "id": "71c7cf50-4aa0-4c5d-98ae-bfbbf1b49c15",
   "metadata": {},
   "outputs": [],
   "source": [
    "del layers_to_join, layer_gdfs, gdf, base_layer"
   ]
  },
  {
   "cell_type": "markdown",
   "id": "84720eae-fa05-4643-8686-6844c1d34931",
   "metadata": {},
   "source": [
    "# HEX 8"
   ]
  },
  {
   "cell_type": "markdown",
   "id": "147999ea-b24b-420a-a0ae-e064e8810fef",
   "metadata": {},
   "source": [
    "Hex imports"
   ]
  },
  {
   "cell_type": "code",
   "execution_count": 77,
   "id": "8ef1baa8-b7b2-4edc-ae0c-498365ca4b18",
   "metadata": {},
   "outputs": [
    {
     "name": "stdout",
     "output_type": "stream",
     "text": [
      "CPU times: total: 3min 18s\n",
      "Wall time: 3min 18s\n"
     ]
    }
   ],
   "source": [
    "%%time\n",
    "# Define the path to the geodatabase\n",
    "inputs_gdb = r'C://Research/Grid_effort/H3Grid_Inputs.gdb'\n",
    "hex_gdb = r\"C://Research/Grid_effort/H3_5_10_Grd.gdb\"\n",
    "hexLevel = '8'\n",
    "\n",
    "# Read in the H3_5 polygon grid layer as the base layer\n",
    "base_layer = gpd.read_file(hex_gdb, layer='H3_'+hexLevel)\n",
    "base_layer.drop(columns=['Shape_Length','Shape_Area'],inplace=True)"
   ]
  },
  {
   "cell_type": "markdown",
   "id": "774ccc55-67bb-4e76-8cff-8c70c8279a1b",
   "metadata": {},
   "source": [
    "Hex to counties"
   ]
  },
  {
   "cell_type": "code",
   "execution_count": 78,
   "id": "ea9d2442-b4c6-44e2-83c6-c0b1303ef37a",
   "metadata": {},
   "outputs": [
    {
     "name": "stdout",
     "output_type": "stream",
     "text": [
      "CPU times: total: 1.94 s\n",
      "Wall time: 1.93 s\n"
     ]
    }
   ],
   "source": [
    "%%time\n",
    "joined_layer = gpd.read_file(inputs_gdb, layer='tj_2021_us_st_cnt')\n",
    "try:\n",
    "    joined_layer.drop(columns=['Shape_Length','Shape_Area'],inplace=True)\n",
    "except:\n",
    "    print('Layer already cleared')"
   ]
  },
  {
   "cell_type": "code",
   "execution_count": 79,
   "id": "ff5ab648-34b8-4c09-8419-909821cf377d",
   "metadata": {},
   "outputs": [
    {
     "name": "stdout",
     "output_type": "stream",
     "text": [
      "CPU times: total: 1min 38s\n",
      "Wall time: 1min 39s\n"
     ]
    }
   ],
   "source": [
    "%%time\n",
    "if not joined_layer.crs == base_layer.crs:\n",
    "        joined_layer = joined_layer.to_crs(base_layer.crs)\n",
    "\n",
    "output_layer = gpd.sjoin(base_layer, joined_layer, how=\"left\")\n",
    "\n",
    "if 'index_right' in output_layer.columns:\n",
    "        output_layer = output_layer.drop('index_right', axis=1)"
   ]
  },
  {
   "cell_type": "code",
   "execution_count": 80,
   "id": "d69033a1-93c9-4ece-ac60-e7762014d4c5",
   "metadata": {},
   "outputs": [
    {
     "name": "stdout",
     "output_type": "stream",
     "text": [
      "CPU times: total: 2min 59s\n",
      "Wall time: 2min 59s\n"
     ]
    }
   ],
   "source": [
    "%%time\n",
    "output_layer.to_file('h'+hexLevel+'_tj2021.gdb',driver='OpenFileGDB')"
   ]
  },
  {
   "cell_type": "code",
   "execution_count": 81,
   "id": "338fa4a5-0872-4e73-97a4-58407017abfa",
   "metadata": {},
   "outputs": [],
   "source": [
    "del joined_layer, output_layer"
   ]
  },
  {
   "cell_type": "markdown",
   "id": "fdff0942-47ea-4132-9631-a1b8f1f79721",
   "metadata": {},
   "source": [
    "Hex to estuarine"
   ]
  },
  {
   "cell_type": "code",
   "execution_count": 82,
   "id": "ae3628f2-bb6b-4bcc-932e-a1ffd3170918",
   "metadata": {},
   "outputs": [
    {
     "name": "stdout",
     "output_type": "stream",
     "text": [
      "CPU times: total: 203 ms\n",
      "Wall time: 196 ms\n"
     ]
    }
   ],
   "source": [
    "%%time\n",
    "joined_layer = gpd.read_file(inputs_gdb, layer='Estuarine_Drainage_Areas')\n",
    "try:\n",
    "    joined_layer.drop(columns=['Shape_Length','Shape_Area'],inplace=True)\n",
    "except:\n",
    "    print('Layer already cleared')"
   ]
  },
  {
   "cell_type": "code",
   "execution_count": 83,
   "id": "a28b1996-2550-4491-91b9-779d5e0cb4db",
   "metadata": {},
   "outputs": [
    {
     "name": "stdout",
     "output_type": "stream",
     "text": [
      "CPU times: total: 1min 29s\n",
      "Wall time: 1min 29s\n"
     ]
    }
   ],
   "source": [
    "%%time\n",
    "if not joined_layer.crs == base_layer.crs:\n",
    "        joined_layer = joined_layer.to_crs(base_layer.crs)\n",
    "\n",
    "output_layer = gpd.sjoin(base_layer, joined_layer, how=\"left\")\n",
    "\n",
    "if 'index_right' in output_layer.columns:\n",
    "        output_layer = output_layer.drop('index_right', axis=1)"
   ]
  },
  {
   "cell_type": "code",
   "execution_count": 84,
   "id": "0b516fa0-c182-47ea-a467-f99600d8477c",
   "metadata": {},
   "outputs": [
    {
     "name": "stdout",
     "output_type": "stream",
     "text": [
      "CPU times: total: 2min 38s\n",
      "Wall time: 2min 38s\n"
     ]
    }
   ],
   "source": [
    "%%time\n",
    "output_layer.to_file('h'+hexLevel+'_Estuarine.gdb',driver='OpenFileGDB')"
   ]
  },
  {
   "cell_type": "code",
   "execution_count": 85,
   "id": "bb475911-70be-4a42-9a0a-4af1d307d4a0",
   "metadata": {},
   "outputs": [],
   "source": [
    "del joined_layer, output_layer"
   ]
  },
  {
   "cell_type": "markdown",
   "id": "29ab224e-ba8a-4718-8527-95f2d54cf87f",
   "metadata": {},
   "source": [
    "Hex to huc8"
   ]
  },
  {
   "cell_type": "code",
   "execution_count": 86,
   "id": "8950960c-73b5-4d9e-b217-7cf763e1e633",
   "metadata": {},
   "outputs": [
    {
     "name": "stdout",
     "output_type": "stream",
     "text": [
      "CPU times: total: 32.1 s\n",
      "Wall time: 32.1 s\n"
     ]
    }
   ],
   "source": [
    "%%time\n",
    "joined_layer = gpd.read_file(inputs_gdb, layer='WBDHU8')\n",
    "try:\n",
    "    joined_layer.drop(columns=['Shape_Length','Shape_Area'],inplace=True)\n",
    "except:\n",
    "    print('Layer already cleared')"
   ]
  },
  {
   "cell_type": "code",
   "execution_count": 87,
   "id": "8dec7d3c-de11-443a-a685-560539be8669",
   "metadata": {},
   "outputs": [
    {
     "name": "stdout",
     "output_type": "stream",
     "text": [
      "CPU times: total: 6min 2s\n",
      "Wall time: 6min 2s\n"
     ]
    }
   ],
   "source": [
    "%%time\n",
    "if not joined_layer.crs == base_layer.crs:\n",
    "        joined_layer = joined_layer.to_crs(base_layer.crs)\n",
    "\n",
    "output_layer = gpd.sjoin(base_layer, joined_layer, how=\"left\")\n",
    "\n",
    "if 'index_right' in output_layer.columns:\n",
    "        output_layer = output_layer.drop('index_right', axis=1)"
   ]
  },
  {
   "cell_type": "code",
   "execution_count": 88,
   "id": "0a49a403-019d-4f1e-9f68-d808073f899c",
   "metadata": {},
   "outputs": [
    {
     "name": "stdout",
     "output_type": "stream",
     "text": [
      "CPU times: total: 2min 35s\n",
      "Wall time: 2min 35s\n"
     ]
    }
   ],
   "source": [
    "%%time\n",
    "output_layer.to_file('h'+hexLevel+'_WBDHU8.gdb',driver='OpenFileGDB')"
   ]
  },
  {
   "cell_type": "code",
   "execution_count": 89,
   "id": "fccf0c1b-c9d9-4794-ac33-3bd3eddee22b",
   "metadata": {},
   "outputs": [],
   "source": [
    "del joined_layer, output_layer"
   ]
  },
  {
   "cell_type": "markdown",
   "id": "83e61c38-63b9-4b26-957b-c632a62ea07e",
   "metadata": {},
   "source": [
    "Hex to census"
   ]
  },
  {
   "cell_type": "code",
   "execution_count": 90,
   "id": "b0182242-9909-4d0a-8f26-4c1fcd36ab19",
   "metadata": {},
   "outputs": [
    {
     "name": "stdout",
     "output_type": "stream",
     "text": [
      "CPU times: total: 10.3 s\n",
      "Wall time: 10.3 s\n"
     ]
    }
   ],
   "source": [
    "%%time\n",
    "joined_layer = gpd.read_file(inputs_gdb, layer='dtl_cnty_Census_ESRI')\n",
    "try:\n",
    "    joined_layer.drop(columns=['Shape_Length','Shape_Area'],inplace=True)\n",
    "except:\n",
    "    print('Layer already cleared')"
   ]
  },
  {
   "cell_type": "code",
   "execution_count": 91,
   "id": "984de209-325d-4814-b721-1faf13032f60",
   "metadata": {},
   "outputs": [
    {
     "name": "stdout",
     "output_type": "stream",
     "text": [
      "CPU times: total: 29min 51s\n",
      "Wall time: 29min 54s\n"
     ]
    }
   ],
   "source": [
    "%%time\n",
    "if not joined_layer.crs == base_layer.crs:\n",
    "        joined_layer = joined_layer.to_crs(base_layer.crs)\n",
    "\n",
    "output_layer = gpd.sjoin(base_layer, joined_layer, how=\"left\")\n",
    "\n",
    "if 'index_right' in output_layer.columns:\n",
    "        output_layer = output_layer.drop('index_right', axis=1)"
   ]
  },
  {
   "cell_type": "code",
   "execution_count": 92,
   "id": "aeff2b5f-6f86-42f7-8bfa-d0683592a4c8",
   "metadata": {},
   "outputs": [
    {
     "name": "stdout",
     "output_type": "stream",
     "text": [
      "CPU times: total: 2min 39s\n",
      "Wall time: 2min 39s\n"
     ]
    }
   ],
   "source": [
    "%%time\n",
    "output_layer.to_file('h'+hexLevel+'_Census.gdb',driver='OpenFileGDB')"
   ]
  },
  {
   "cell_type": "code",
   "execution_count": 93,
   "id": "47a7585b-122c-4555-af53-bd245efc0080",
   "metadata": {},
   "outputs": [],
   "source": [
    "del joined_layer, output_layer"
   ]
  },
  {
   "cell_type": "markdown",
   "id": "58c3de39-164a-4ec0-beb6-5a0eb2e9ed65",
   "metadata": {},
   "source": [
    "Hex to huc12"
   ]
  },
  {
   "cell_type": "code",
   "execution_count": 94,
   "id": "4989fd02-cb10-4337-bb31-838b16389b16",
   "metadata": {},
   "outputs": [
    {
     "name": "stdout",
     "output_type": "stream",
     "text": [
      "CPU times: total: 9.31 s\n",
      "Wall time: 9.34 s\n"
     ]
    }
   ],
   "source": [
    "%%time\n",
    "joined_layer = gpd.read_file(inputs_gdb, layer='WBDHU12')\n",
    "try:\n",
    "    joined_layer.drop(columns=['Shape_Length','Shape_Area'],inplace=True)\n",
    "except:\n",
    "    print('Layer already cleared')"
   ]
  },
  {
   "cell_type": "code",
   "execution_count": 95,
   "id": "a88548c6-5b73-44ea-8d08-10674d0a6832",
   "metadata": {},
   "outputs": [
    {
     "name": "stdout",
     "output_type": "stream",
     "text": [
      "CPU times: total: 57.9 s\n",
      "Wall time: 58 s\n"
     ]
    }
   ],
   "source": [
    "%%time\n",
    "if not joined_layer.crs == base_layer.crs:\n",
    "        joined_layer = joined_layer.to_crs(base_layer.crs)\n",
    "\n",
    "output_layer = gpd.sjoin(base_layer, joined_layer, how=\"left\")\n",
    "\n",
    "if 'index_right' in output_layer.columns:\n",
    "        output_layer = output_layer.drop('index_right', axis=1)"
   ]
  },
  {
   "cell_type": "code",
   "execution_count": 96,
   "id": "fe49be62-402e-4071-966c-6e8f7baee716",
   "metadata": {},
   "outputs": [
    {
     "name": "stdout",
     "output_type": "stream",
     "text": [
      "CPU times: total: 2min 48s\n",
      "Wall time: 2min 48s\n"
     ]
    }
   ],
   "source": [
    "%%time\n",
    "output_layer.to_file('h'+hexLevel+'_WBDHU12.gdb',driver='OpenFileGDB')"
   ]
  },
  {
   "cell_type": "code",
   "execution_count": 97,
   "id": "50c67297-9566-4c3b-a780-d87af4f7a02e",
   "metadata": {},
   "outputs": [],
   "source": [
    "del joined_layer, output_layer"
   ]
  },
  {
   "cell_type": "markdown",
   "id": "d5c87415-d5eb-471e-a9a9-cf18667f9868",
   "metadata": {},
   "source": [
    "Hex to all at once"
   ]
  },
  {
   "cell_type": "code",
   "execution_count": 98,
   "id": "3651f1a1-b0d8-4ed2-8f60-63c5f2451f3e",
   "metadata": {},
   "outputs": [
    {
     "name": "stdout",
     "output_type": "stream",
     "text": [
      "CPU times: total: 52.2 s\n",
      "Wall time: 52.2 s\n"
     ]
    }
   ],
   "source": [
    "%%time\n",
    "layers_to_join = ['tj_2021_us_st_cnt', 'Estuarine_Drainage_Areas', 'WBDHU8', 'dtl_cnty_Census_ESRI', 'WBDHU12']\n",
    "layer_gdfs = {layer: gpd.read_file(inputs_gdb, layer=layer) for layer in layers_to_join}"
   ]
  },
  {
   "cell_type": "code",
   "execution_count": 99,
   "id": "6fc7186e-6793-4159-8264-5504e6c85768",
   "metadata": {},
   "outputs": [
    {
     "name": "stdout",
     "output_type": "stream",
     "text": [
      "CPU times: total: 40min 26s\n",
      "Wall time: 40min 28s\n"
     ]
    }
   ],
   "source": [
    "%%time\n",
    "for name, gdf in layer_gdfs.items():\n",
    "    # Ensure the CRS is the same between the base layer and the current layer\n",
    "    if not gdf.crs == base_layer.crs:\n",
    "        gdf = gdf.to_crs(base_layer.crs)\n",
    "    if 'Shape_Length' in gdf.columns:\n",
    "        gdf.drop('Shape_Length', axis=1, inplace=True)\n",
    "    if 'Shape_Area' in gdf.columns:\n",
    "        gdf.drop('Shape_Area', axis=1, inplace=True)\n",
    "\n",
    "    # Perform spatial join (inner join by default)\n",
    "    base_layer = gpd.sjoin(base_layer, gdf, how=\"left\")\n",
    "    \n",
    "    # Drop the `index_right` column if it exists\n",
    "    if 'index_right' in base_layer.columns:\n",
    "        base_layer.drop('index_right', axis=1, inplace=True)"
   ]
  },
  {
   "cell_type": "code",
   "execution_count": 100,
   "id": "3bff4587-03ef-42ae-a0e6-e088eeeac3d7",
   "metadata": {},
   "outputs": [
    {
     "name": "stdout",
     "output_type": "stream",
     "text": [
      "CPU times: total: 4min 21s\n",
      "Wall time: 4min 21s\n"
     ]
    }
   ],
   "source": [
    "%%time\n",
    "base_layer.to_file('h'+hexLevel+'_allAtOnce.gdb',driver='OpenFileGDB')"
   ]
  },
  {
   "cell_type": "code",
   "execution_count": 101,
   "id": "6b817f90-a6e1-4942-a13b-82af49bb576a",
   "metadata": {},
   "outputs": [],
   "source": [
    "del layers_to_join, layer_gdfs, gdf, base_layer"
   ]
  },
  {
   "cell_type": "markdown",
   "id": "792ec814-931f-49fd-a2a9-924c60f2625f",
   "metadata": {},
   "source": [
    "# HEX 9"
   ]
  },
  {
   "cell_type": "markdown",
   "id": "9dc3e014-4b2d-4e7a-9312-291b343f9a91",
   "metadata": {},
   "source": [
    "Hex imports"
   ]
  },
  {
   "cell_type": "code",
   "execution_count": 102,
   "id": "6fc16947-8ae9-4457-b2ef-fed5a6f752c7",
   "metadata": {},
   "outputs": [
    {
     "name": "stdout",
     "output_type": "stream",
     "text": [
      "CPU times: total: 23min 10s\n",
      "Wall time: 23min 11s\n"
     ]
    }
   ],
   "source": [
    "%%time\n",
    "# Define the path to the geodatabase\n",
    "inputs_gdb = r'C://Research/Grid_effort/H3Grid_Inputs.gdb'\n",
    "hex_gdb = r\"C://Research/Grid_effort/H3_5_10_Grd.gdb\"\n",
    "hexLevel = '9'\n",
    "\n",
    "# Read in the H3_5 polygon grid layer as the base layer\n",
    "base_layer = gpd.read_file(hex_gdb, layer='H3_'+hexLevel)\n",
    "base_layer.drop(columns=['Shape_Length','Shape_Area'],inplace=True)"
   ]
  },
  {
   "cell_type": "markdown",
   "id": "d5c5ae71-96fd-4ca3-ab04-170b7e0e7a36",
   "metadata": {},
   "source": [
    "Hex to counties"
   ]
  },
  {
   "cell_type": "code",
   "execution_count": 103,
   "id": "f54ef68b-2675-46a4-bfac-5d7cfe6e0864",
   "metadata": {},
   "outputs": [
    {
     "name": "stdout",
     "output_type": "stream",
     "text": [
      "CPU times: total: 1.25 s\n",
      "Wall time: 1.25 s\n"
     ]
    }
   ],
   "source": [
    "%%time\n",
    "joined_layer = gpd.read_file(inputs_gdb, layer='tj_2021_us_st_cnt')\n",
    "try:\n",
    "    joined_layer.drop(columns=['Shape_Length','Shape_Area'],inplace=True)\n",
    "except:\n",
    "    print('Layer already cleared')"
   ]
  },
  {
   "cell_type": "code",
   "execution_count": 104,
   "id": "61275209-5e78-42e4-b250-56c004a1ad7e",
   "metadata": {},
   "outputs": [
    {
     "name": "stdout",
     "output_type": "stream",
     "text": [
      "CPU times: total: 18min 5s\n",
      "Wall time: 18min 5s\n"
     ]
    }
   ],
   "source": [
    "%%time\n",
    "if not joined_layer.crs == base_layer.crs:\n",
    "        joined_layer = joined_layer.to_crs(base_layer.crs)\n",
    "\n",
    "output_layer = gpd.sjoin(base_layer, joined_layer, how=\"left\")\n",
    "\n",
    "if 'index_right' in output_layer.columns:\n",
    "        output_layer = output_layer.drop('index_right', axis=1)"
   ]
  },
  {
   "cell_type": "code",
   "execution_count": 105,
   "id": "5bc2541d-1538-46e3-ba7a-048d81226c23",
   "metadata": {},
   "outputs": [
    {
     "name": "stdout",
     "output_type": "stream",
     "text": [
      "CPU times: total: 20min 13s\n",
      "Wall time: 20min 14s\n"
     ]
    }
   ],
   "source": [
    "%%time\n",
    "output_layer.to_file('h'+hexLevel+'_tj2021.gdb',driver='OpenFileGDB')"
   ]
  },
  {
   "cell_type": "code",
   "execution_count": 106,
   "id": "785c8171-1e17-473d-845d-ce22b032ffb1",
   "metadata": {},
   "outputs": [],
   "source": [
    "del joined_layer, output_layer"
   ]
  },
  {
   "cell_type": "markdown",
   "id": "a2d1950a-392e-46bd-a67b-d387aa78e09c",
   "metadata": {},
   "source": [
    "Hex to estuarine"
   ]
  },
  {
   "cell_type": "code",
   "execution_count": 107,
   "id": "31fe9de6-aec4-4d92-bdbe-ecc2207557f9",
   "metadata": {},
   "outputs": [
    {
     "name": "stdout",
     "output_type": "stream",
     "text": [
      "CPU times: total: 219 ms\n",
      "Wall time: 230 ms\n"
     ]
    }
   ],
   "source": [
    "%%time\n",
    "joined_layer = gpd.read_file(inputs_gdb, layer='Estuarine_Drainage_Areas')\n",
    "try:\n",
    "    joined_layer.drop(columns=['Shape_Length','Shape_Area'],inplace=True)\n",
    "except:\n",
    "    print('Layer already cleared')"
   ]
  },
  {
   "cell_type": "code",
   "execution_count": 108,
   "id": "138bafac-885e-478b-b014-012d493778ce",
   "metadata": {},
   "outputs": [
    {
     "name": "stdout",
     "output_type": "stream",
     "text": [
      "CPU times: total: 19min 8s\n",
      "Wall time: 19min 9s\n"
     ]
    }
   ],
   "source": [
    "%%time\n",
    "if not joined_layer.crs == base_layer.crs:\n",
    "        joined_layer = joined_layer.to_crs(base_layer.crs)\n",
    "\n",
    "output_layer = gpd.sjoin(base_layer, joined_layer, how=\"left\")\n",
    "\n",
    "if 'index_right' in output_layer.columns:\n",
    "        output_layer = output_layer.drop('index_right', axis=1)"
   ]
  },
  {
   "cell_type": "code",
   "execution_count": 109,
   "id": "6875fdc7-81ad-4d8b-843e-a517e8aa2e4b",
   "metadata": {},
   "outputs": [
    {
     "name": "stdout",
     "output_type": "stream",
     "text": [
      "CPU times: total: 18min 3s\n",
      "Wall time: 18min 4s\n"
     ]
    }
   ],
   "source": [
    "%%time\n",
    "output_layer.to_file('h'+hexLevel+'_Estuarine.gdb',driver='OpenFileGDB')"
   ]
  },
  {
   "cell_type": "code",
   "execution_count": 110,
   "id": "93b64cfe-e9be-4e56-9fbb-f947559fc7c3",
   "metadata": {},
   "outputs": [],
   "source": [
    "del joined_layer, output_layer"
   ]
  },
  {
   "cell_type": "markdown",
   "id": "ff299ad2-6619-4aa9-a108-fa3455d74c7f",
   "metadata": {},
   "source": [
    "Hex to huc8"
   ]
  },
  {
   "cell_type": "code",
   "execution_count": 111,
   "id": "6cd94e15-89c6-460f-a3aa-121d63c2108b",
   "metadata": {},
   "outputs": [
    {
     "name": "stdout",
     "output_type": "stream",
     "text": [
      "CPU times: total: 33.8 s\n",
      "Wall time: 33.8 s\n"
     ]
    }
   ],
   "source": [
    "%%time\n",
    "joined_layer = gpd.read_file(inputs_gdb, layer='WBDHU8')\n",
    "try:\n",
    "    joined_layer.drop(columns=['Shape_Length','Shape_Area'],inplace=True)\n",
    "except:\n",
    "    print('Layer already cleared')"
   ]
  },
  {
   "cell_type": "code",
   "execution_count": 112,
   "id": "cb632018-d23f-4835-ad0d-da07159e57bc",
   "metadata": {},
   "outputs": [
    {
     "name": "stdout",
     "output_type": "stream",
     "text": [
      "CPU times: total: 1h 6min 41s\n",
      "Wall time: 1h 6min 44s\n"
     ]
    }
   ],
   "source": [
    "%%time\n",
    "if not joined_layer.crs == base_layer.crs:\n",
    "        joined_layer = joined_layer.to_crs(base_layer.crs)\n",
    "\n",
    "output_layer = gpd.sjoin(base_layer, joined_layer, how=\"left\")\n",
    "\n",
    "if 'index_right' in output_layer.columns:\n",
    "        output_layer = output_layer.drop('index_right', axis=1)"
   ]
  },
  {
   "cell_type": "code",
   "execution_count": 113,
   "id": "894b1182-62c4-4feb-989b-288ee3cf1c0b",
   "metadata": {},
   "outputs": [
    {
     "name": "stdout",
     "output_type": "stream",
     "text": [
      "CPU times: total: 17min 53s\n",
      "Wall time: 17min 54s\n"
     ]
    }
   ],
   "source": [
    "%%time\n",
    "output_layer.to_file('h'+hexLevel+'_WBDHU8.gdb',driver='OpenFileGDB')"
   ]
  },
  {
   "cell_type": "code",
   "execution_count": 114,
   "id": "9dceb155-8ef7-4e67-a8c7-f9ed0e0d1d8e",
   "metadata": {},
   "outputs": [],
   "source": [
    "del joined_layer, output_layer"
   ]
  },
  {
   "cell_type": "markdown",
   "id": "c0d750aa-81ae-4c84-b65a-b2f7931812a4",
   "metadata": {},
   "source": [
    "Hex to census"
   ]
  },
  {
   "cell_type": "code",
   "execution_count": 115,
   "id": "c8bdffa1-8679-44fe-93e9-b1736441e443",
   "metadata": {},
   "outputs": [
    {
     "name": "stdout",
     "output_type": "stream",
     "text": [
      "CPU times: total: 12.4 s\n",
      "Wall time: 12.4 s\n"
     ]
    }
   ],
   "source": [
    "%%time\n",
    "joined_layer = gpd.read_file(inputs_gdb, layer='dtl_cnty_Census_ESRI')\n",
    "try:\n",
    "    joined_layer.drop(columns=['Shape_Length','Shape_Area'],inplace=True)\n",
    "except:\n",
    "    print('Layer already cleared')"
   ]
  },
  {
   "cell_type": "code",
   "execution_count": 116,
   "id": "5e1f87c8-8a59-4696-93be-b25f2f8bb6e5",
   "metadata": {},
   "outputs": [
    {
     "name": "stdout",
     "output_type": "stream",
     "text": [
      "CPU times: total: 3h 55min 40s\n",
      "Wall time: 3h 55min 53s\n"
     ]
    }
   ],
   "source": [
    "%%time\n",
    "if not joined_layer.crs == base_layer.crs:\n",
    "        joined_layer = joined_layer.to_crs(base_layer.crs)\n",
    "\n",
    "output_layer = gpd.sjoin(base_layer, joined_layer, how=\"left\")\n",
    "\n",
    "if 'index_right' in output_layer.columns:\n",
    "        output_layer = output_layer.drop('index_right', axis=1)"
   ]
  },
  {
   "cell_type": "code",
   "execution_count": 117,
   "id": "7f5ee4dc-5205-4ffe-ae4e-fa4f10d4bd28",
   "metadata": {},
   "outputs": [
    {
     "name": "stdout",
     "output_type": "stream",
     "text": [
      "CPU times: total: 18min 7s\n",
      "Wall time: 18min 8s\n"
     ]
    }
   ],
   "source": [
    "%%time\n",
    "output_layer.to_file('h'+hexLevel+'_Census.gdb',driver='OpenFileGDB')"
   ]
  },
  {
   "cell_type": "code",
   "execution_count": 118,
   "id": "59191d20-a5a2-4a91-935e-4e156e902cba",
   "metadata": {},
   "outputs": [],
   "source": [
    "del joined_layer, output_layer"
   ]
  },
  {
   "cell_type": "markdown",
   "id": "1ca192f2-58bb-4e20-96f8-23fbdf1e2dba",
   "metadata": {},
   "source": [
    "Hex to huc12"
   ]
  },
  {
   "cell_type": "code",
   "execution_count": 119,
   "id": "70833387-90b8-4255-819e-abc12ad42bcf",
   "metadata": {},
   "outputs": [
    {
     "name": "stdout",
     "output_type": "stream",
     "text": [
      "CPU times: total: 7.83 s\n",
      "Wall time: 7.85 s\n"
     ]
    }
   ],
   "source": [
    "%%time\n",
    "joined_layer = gpd.read_file(inputs_gdb, layer='WBDHU12')\n",
    "try:\n",
    "    joined_layer.drop(columns=['Shape_Length','Shape_Area'],inplace=True)\n",
    "except:\n",
    "    print('Layer already cleared')"
   ]
  },
  {
   "cell_type": "code",
   "execution_count": 120,
   "id": "a0471b1a-56a0-4967-881a-dd2ce9e86ee3",
   "metadata": {},
   "outputs": [
    {
     "name": "stdout",
     "output_type": "stream",
     "text": [
      "CPU times: total: 6min 28s\n",
      "Wall time: 6min 28s\n"
     ]
    }
   ],
   "source": [
    "%%time\n",
    "if not joined_layer.crs == base_layer.crs:\n",
    "        joined_layer = joined_layer.to_crs(base_layer.crs)\n",
    "\n",
    "output_layer = gpd.sjoin(base_layer, joined_layer, how=\"left\")\n",
    "\n",
    "if 'index_right' in output_layer.columns:\n",
    "        output_layer = output_layer.drop('index_right', axis=1)"
   ]
  },
  {
   "cell_type": "code",
   "execution_count": 121,
   "id": "cf48d3d3-416b-4256-b52d-08472206d132",
   "metadata": {},
   "outputs": [
    {
     "name": "stdout",
     "output_type": "stream",
     "text": [
      "CPU times: total: 19min 8s\n",
      "Wall time: 19min 9s\n"
     ]
    }
   ],
   "source": [
    "%%time\n",
    "output_layer.to_file('h'+hexLevel+'_WBDHU12.gdb',driver='OpenFileGDB')"
   ]
  },
  {
   "cell_type": "code",
   "execution_count": 122,
   "id": "7cc8fa4e-fab4-4c8d-b559-8c5a68027a56",
   "metadata": {},
   "outputs": [],
   "source": [
    "del joined_layer, output_layer"
   ]
  },
  {
   "cell_type": "markdown",
   "id": "54641498-ccbd-4af9-b120-9ca235d62dcf",
   "metadata": {},
   "source": [
    "Hex to all at once"
   ]
  },
  {
   "cell_type": "code",
   "execution_count": 123,
   "id": "cf6e9dd7-76a1-4458-bfe2-a9fac2c83bb1",
   "metadata": {},
   "outputs": [
    {
     "name": "stdout",
     "output_type": "stream",
     "text": [
      "CPU times: total: 59.5 s\n",
      "Wall time: 59.6 s\n"
     ]
    }
   ],
   "source": [
    "%%time\n",
    "layers_to_join = ['tj_2021_us_st_cnt', 'Estuarine_Drainage_Areas', 'WBDHU8', 'dtl_cnty_Census_ESRI', 'WBDHU12']\n",
    "layer_gdfs = {layer: gpd.read_file(inputs_gdb, layer=layer) for layer in layers_to_join}"
   ]
  },
  {
   "cell_type": "code",
   "execution_count": 124,
   "id": "ddcbd1af-b275-479d-85b9-950ac7486467",
   "metadata": {},
   "outputs": [
    {
     "name": "stdout",
     "output_type": "stream",
     "text": [
      "CPU times: total: 4h 34min 44s\n",
      "Wall time: 4h 35min\n"
     ]
    }
   ],
   "source": [
    "%%time\n",
    "for name, gdf in layer_gdfs.items():\n",
    "    # Ensure the CRS is the same between the base layer and the current layer\n",
    "    if not gdf.crs == base_layer.crs:\n",
    "        gdf = gdf.to_crs(base_layer.crs)\n",
    "    if 'Shape_Length' in gdf.columns:\n",
    "        gdf.drop('Shape_Length', axis=1, inplace=True)\n",
    "    if 'Shape_Area' in gdf.columns:\n",
    "        gdf.drop('Shape_Area', axis=1, inplace=True)\n",
    "\n",
    "    # Perform spatial join (inner join by default)\n",
    "    base_layer = gpd.sjoin(base_layer, gdf, how=\"left\")\n",
    "    \n",
    "    # Drop the `index_right` column if it exists\n",
    "    if 'index_right' in base_layer.columns:\n",
    "        base_layer.drop('index_right', axis=1, inplace=True)"
   ]
  },
  {
   "cell_type": "code",
   "execution_count": 125,
   "id": "d7861437-ac77-4fbf-acba-8c90e0aab741",
   "metadata": {},
   "outputs": [
    {
     "name": "stdout",
     "output_type": "stream",
     "text": [
      "CPU times: total: 26min 49s\n",
      "Wall time: 26min 50s\n"
     ]
    }
   ],
   "source": [
    "%%time\n",
    "base_layer.to_file('h'+hexLevel+'_allAtOnce.gdb',driver='OpenFileGDB')"
   ]
  },
  {
   "cell_type": "code",
   "execution_count": 126,
   "id": "234c1d06-a9d1-4370-a37b-fecfbc310d2f",
   "metadata": {
    "jupyter": {
     "source_hidden": true
    }
   },
   "outputs": [],
   "source": [
    "del layers_to_join, layer_gdfs, gdf, base_layer"
   ]
  },
  {
   "cell_type": "markdown",
   "id": "7df19c6b-2fc1-497e-8570-1beab06b71b5",
   "metadata": {},
   "source": [
    "# HEX 10"
   ]
  },
  {
   "cell_type": "markdown",
   "id": "ae832153-8f0c-4d49-a22e-0c2aa3d3cfa7",
   "metadata": {},
   "source": [
    "Hex imports"
   ]
  },
  {
   "cell_type": "code",
   "execution_count": 127,
   "id": "08c7092b-df7e-45fb-a6a2-f3f108d87be2",
   "metadata": {},
   "outputs": [
    {
     "ename": "MemoryError",
     "evalue": "Unable to allocate 1.61 GiB for an array with shape (2, 108339425) and data type object",
     "output_type": "error",
     "traceback": [
      "\u001b[1;31m---------------------------------------------------------------------------\u001b[0m",
      "\u001b[1;31mMemoryError\u001b[0m                               Traceback (most recent call last)",
      "File \u001b[1;32m<timed exec>:7\u001b[0m\n",
      "File \u001b[1;32m~\\AppData\\Local\\anaconda3\\envs\\spatial_h3\\lib\\site-packages\\geopandas\\io\\file.py:297\u001b[0m, in \u001b[0;36m_read_file\u001b[1;34m(filename, bbox, mask, rows, engine, **kwargs)\u001b[0m\n\u001b[0;32m    294\u001b[0m     \u001b[38;5;28;01melse\u001b[39;00m:\n\u001b[0;32m    295\u001b[0m         path_or_bytes \u001b[38;5;241m=\u001b[39m filename\n\u001b[1;32m--> 297\u001b[0m     \u001b[38;5;28;01mreturn\u001b[39;00m _read_file_fiona(\n\u001b[0;32m    298\u001b[0m         path_or_bytes, from_bytes, bbox\u001b[38;5;241m=\u001b[39mbbox, mask\u001b[38;5;241m=\u001b[39mmask, rows\u001b[38;5;241m=\u001b[39mrows, \u001b[38;5;241m*\u001b[39m\u001b[38;5;241m*\u001b[39mkwargs\n\u001b[0;32m    299\u001b[0m     )\n\u001b[0;32m    301\u001b[0m \u001b[38;5;28;01melse\u001b[39;00m:\n\u001b[0;32m    302\u001b[0m     \u001b[38;5;28;01mraise\u001b[39;00m \u001b[38;5;167;01mValueError\u001b[39;00m(\u001b[38;5;124mf\u001b[39m\u001b[38;5;124m\"\u001b[39m\u001b[38;5;124munknown engine \u001b[39m\u001b[38;5;124m'\u001b[39m\u001b[38;5;132;01m{\u001b[39;00mengine\u001b[38;5;132;01m}\u001b[39;00m\u001b[38;5;124m'\u001b[39m\u001b[38;5;124m\"\u001b[39m)\n",
      "File \u001b[1;32m~\\AppData\\Local\\anaconda3\\envs\\spatial_h3\\lib\\site-packages\\geopandas\\io\\file.py:395\u001b[0m, in \u001b[0;36m_read_file_fiona\u001b[1;34m(path_or_bytes, from_bytes, bbox, mask, rows, where, **kwargs)\u001b[0m\n\u001b[0;32m    391\u001b[0m     df \u001b[38;5;241m=\u001b[39m pd\u001b[38;5;241m.\u001b[39mDataFrame(\n\u001b[0;32m    392\u001b[0m         [record[\u001b[38;5;124m\"\u001b[39m\u001b[38;5;124mproperties\u001b[39m\u001b[38;5;124m\"\u001b[39m] \u001b[38;5;28;01mfor\u001b[39;00m record \u001b[38;5;129;01min\u001b[39;00m f_filt], columns\u001b[38;5;241m=\u001b[39mcolumns\n\u001b[0;32m    393\u001b[0m     )\n\u001b[0;32m    394\u001b[0m \u001b[38;5;28;01melse\u001b[39;00m:\n\u001b[1;32m--> 395\u001b[0m     df \u001b[38;5;241m=\u001b[39m \u001b[43mGeoDataFrame\u001b[49m\u001b[38;5;241;43m.\u001b[39;49m\u001b[43mfrom_features\u001b[49m\u001b[43m(\u001b[49m\n\u001b[0;32m    396\u001b[0m \u001b[43m        \u001b[49m\u001b[43mf_filt\u001b[49m\u001b[43m,\u001b[49m\u001b[43m \u001b[49m\u001b[43mcrs\u001b[49m\u001b[38;5;241;43m=\u001b[39;49m\u001b[43mcrs\u001b[49m\u001b[43m,\u001b[49m\u001b[43m \u001b[49m\u001b[43mcolumns\u001b[49m\u001b[38;5;241;43m=\u001b[39;49m\u001b[43mcolumns\u001b[49m\u001b[43m \u001b[49m\u001b[38;5;241;43m+\u001b[39;49m\u001b[43m \u001b[49m\u001b[43m[\u001b[49m\u001b[38;5;124;43m\"\u001b[39;49m\u001b[38;5;124;43mgeometry\u001b[39;49m\u001b[38;5;124;43m\"\u001b[39;49m\u001b[43m]\u001b[49m\n\u001b[0;32m    397\u001b[0m \u001b[43m    \u001b[49m\u001b[43m)\u001b[49m\n\u001b[0;32m    398\u001b[0m \u001b[38;5;28;01mfor\u001b[39;00m k \u001b[38;5;129;01min\u001b[39;00m datetime_fields:\n\u001b[0;32m    399\u001b[0m     as_dt \u001b[38;5;241m=\u001b[39m pd\u001b[38;5;241m.\u001b[39mto_datetime(df[k], errors\u001b[38;5;241m=\u001b[39m\u001b[38;5;124m\"\u001b[39m\u001b[38;5;124mignore\u001b[39m\u001b[38;5;124m\"\u001b[39m)\n",
      "File \u001b[1;32m~\\AppData\\Local\\anaconda3\\envs\\spatial_h3\\lib\\site-packages\\geopandas\\geodataframe.py:649\u001b[0m, in \u001b[0;36mGeoDataFrame.from_features\u001b[1;34m(cls, features, crs, columns)\u001b[0m\n\u001b[0;32m    647\u001b[0m     row\u001b[38;5;241m.\u001b[39mupdate(properties)\n\u001b[0;32m    648\u001b[0m     rows\u001b[38;5;241m.\u001b[39mappend(row)\n\u001b[1;32m--> 649\u001b[0m \u001b[38;5;28;01mreturn\u001b[39;00m \u001b[38;5;28;43mcls\u001b[39;49m\u001b[43m(\u001b[49m\u001b[43mrows\u001b[49m\u001b[43m,\u001b[49m\u001b[43m \u001b[49m\u001b[43mcolumns\u001b[49m\u001b[38;5;241;43m=\u001b[39;49m\u001b[43mcolumns\u001b[49m\u001b[43m,\u001b[49m\u001b[43m \u001b[49m\u001b[43mcrs\u001b[49m\u001b[38;5;241;43m=\u001b[39;49m\u001b[43mcrs\u001b[49m\u001b[43m)\u001b[49m\n",
      "File \u001b[1;32m~\\AppData\\Local\\anaconda3\\envs\\spatial_h3\\lib\\site-packages\\geopandas\\geodataframe.py:139\u001b[0m, in \u001b[0;36mGeoDataFrame.__init__\u001b[1;34m(self, data, geometry, crs, *args, **kwargs)\u001b[0m\n\u001b[0;32m    133\u001b[0m     \u001b[38;5;28;01mif\u001b[39;00m (\n\u001b[0;32m    134\u001b[0m         kwargs\u001b[38;5;241m.\u001b[39mget(\u001b[38;5;124m\"\u001b[39m\u001b[38;5;124mcopy\u001b[39m\u001b[38;5;124m\"\u001b[39m) \u001b[38;5;129;01mis\u001b[39;00m \u001b[38;5;28;01mNone\u001b[39;00m\n\u001b[0;32m    135\u001b[0m         \u001b[38;5;129;01mand\u001b[39;00m \u001b[38;5;28misinstance\u001b[39m(data, DataFrame)\n\u001b[0;32m    136\u001b[0m         \u001b[38;5;129;01mand\u001b[39;00m \u001b[38;5;129;01mnot\u001b[39;00m \u001b[38;5;28misinstance\u001b[39m(data, GeoDataFrame)\n\u001b[0;32m    137\u001b[0m     ):\n\u001b[0;32m    138\u001b[0m         kwargs\u001b[38;5;241m.\u001b[39mupdate(copy\u001b[38;5;241m=\u001b[39m\u001b[38;5;28;01mTrue\u001b[39;00m)\n\u001b[1;32m--> 139\u001b[0m     \u001b[38;5;28msuper\u001b[39m()\u001b[38;5;241m.\u001b[39m\u001b[38;5;21m__init__\u001b[39m(data, \u001b[38;5;241m*\u001b[39margs, \u001b[38;5;241m*\u001b[39m\u001b[38;5;241m*\u001b[39mkwargs)\n\u001b[0;32m    141\u001b[0m \u001b[38;5;66;03m# set_geometry ensures the geometry data have the proper dtype,\u001b[39;00m\n\u001b[0;32m    142\u001b[0m \u001b[38;5;66;03m# but is not called if `geometry=None` ('geometry' column present\u001b[39;00m\n\u001b[0;32m    143\u001b[0m \u001b[38;5;66;03m# in the data), so therefore need to ensure it here manually\u001b[39;00m\n\u001b[1;32m   (...)\u001b[0m\n\u001b[0;32m    147\u001b[0m \n\u001b[0;32m    148\u001b[0m \u001b[38;5;66;03m# if gdf passed in and geo_col is set, we use that for geometry\u001b[39;00m\n\u001b[0;32m    149\u001b[0m \u001b[38;5;28;01mif\u001b[39;00m geometry \u001b[38;5;129;01mis\u001b[39;00m \u001b[38;5;28;01mNone\u001b[39;00m \u001b[38;5;129;01mand\u001b[39;00m \u001b[38;5;28misinstance\u001b[39m(data, GeoDataFrame):\n",
      "File \u001b[1;32m~\\AppData\\Local\\anaconda3\\envs\\spatial_h3\\lib\\site-packages\\pandas\\core\\frame.py:859\u001b[0m, in \u001b[0;36mDataFrame.__init__\u001b[1;34m(self, data, index, columns, dtype, copy)\u001b[0m\n\u001b[0;32m    850\u001b[0m         columns \u001b[38;5;241m=\u001b[39m ensure_index(columns)\n\u001b[0;32m    851\u001b[0m     arrays, columns, index \u001b[38;5;241m=\u001b[39m nested_data_to_arrays(\n\u001b[0;32m    852\u001b[0m         \u001b[38;5;66;03m# error: Argument 3 to \"nested_data_to_arrays\" has incompatible\u001b[39;00m\n\u001b[0;32m    853\u001b[0m         \u001b[38;5;66;03m# type \"Optional[Collection[Any]]\"; expected \"Optional[Index]\"\u001b[39;00m\n\u001b[1;32m   (...)\u001b[0m\n\u001b[0;32m    857\u001b[0m         dtype,\n\u001b[0;32m    858\u001b[0m     )\n\u001b[1;32m--> 859\u001b[0m     mgr \u001b[38;5;241m=\u001b[39m \u001b[43marrays_to_mgr\u001b[49m\u001b[43m(\u001b[49m\n\u001b[0;32m    860\u001b[0m \u001b[43m        \u001b[49m\u001b[43marrays\u001b[49m\u001b[43m,\u001b[49m\n\u001b[0;32m    861\u001b[0m \u001b[43m        \u001b[49m\u001b[43mcolumns\u001b[49m\u001b[43m,\u001b[49m\n\u001b[0;32m    862\u001b[0m \u001b[43m        \u001b[49m\u001b[43mindex\u001b[49m\u001b[43m,\u001b[49m\n\u001b[0;32m    863\u001b[0m \u001b[43m        \u001b[49m\u001b[43mdtype\u001b[49m\u001b[38;5;241;43m=\u001b[39;49m\u001b[43mdtype\u001b[49m\u001b[43m,\u001b[49m\n\u001b[0;32m    864\u001b[0m \u001b[43m        \u001b[49m\u001b[43mtyp\u001b[49m\u001b[38;5;241;43m=\u001b[39;49m\u001b[43mmanager\u001b[49m\u001b[43m,\u001b[49m\n\u001b[0;32m    865\u001b[0m \u001b[43m    \u001b[49m\u001b[43m)\u001b[49m\n\u001b[0;32m    866\u001b[0m \u001b[38;5;28;01melse\u001b[39;00m:\n\u001b[0;32m    867\u001b[0m     mgr \u001b[38;5;241m=\u001b[39m ndarray_to_mgr(\n\u001b[0;32m    868\u001b[0m         data,\n\u001b[0;32m    869\u001b[0m         index,\n\u001b[1;32m   (...)\u001b[0m\n\u001b[0;32m    873\u001b[0m         typ\u001b[38;5;241m=\u001b[39mmanager,\n\u001b[0;32m    874\u001b[0m     )\n",
      "File \u001b[1;32m~\\AppData\\Local\\anaconda3\\envs\\spatial_h3\\lib\\site-packages\\pandas\\core\\internals\\construction.py:152\u001b[0m, in \u001b[0;36marrays_to_mgr\u001b[1;34m(arrays, columns, index, dtype, verify_integrity, typ, consolidate)\u001b[0m\n\u001b[0;32m    149\u001b[0m axes \u001b[38;5;241m=\u001b[39m [columns, index]\n\u001b[0;32m    151\u001b[0m \u001b[38;5;28;01mif\u001b[39;00m typ \u001b[38;5;241m==\u001b[39m \u001b[38;5;124m\"\u001b[39m\u001b[38;5;124mblock\u001b[39m\u001b[38;5;124m\"\u001b[39m:\n\u001b[1;32m--> 152\u001b[0m     \u001b[38;5;28;01mreturn\u001b[39;00m \u001b[43mcreate_block_manager_from_column_arrays\u001b[49m\u001b[43m(\u001b[49m\n\u001b[0;32m    153\u001b[0m \u001b[43m        \u001b[49m\u001b[43marrays\u001b[49m\u001b[43m,\u001b[49m\u001b[43m \u001b[49m\u001b[43maxes\u001b[49m\u001b[43m,\u001b[49m\u001b[43m \u001b[49m\u001b[43mconsolidate\u001b[49m\u001b[38;5;241;43m=\u001b[39;49m\u001b[43mconsolidate\u001b[49m\u001b[43m,\u001b[49m\u001b[43m \u001b[49m\u001b[43mrefs\u001b[49m\u001b[38;5;241;43m=\u001b[39;49m\u001b[43mrefs\u001b[49m\n\u001b[0;32m    154\u001b[0m \u001b[43m    \u001b[49m\u001b[43m)\u001b[49m\n\u001b[0;32m    155\u001b[0m \u001b[38;5;28;01melif\u001b[39;00m typ \u001b[38;5;241m==\u001b[39m \u001b[38;5;124m\"\u001b[39m\u001b[38;5;124marray\u001b[39m\u001b[38;5;124m\"\u001b[39m:\n\u001b[0;32m    156\u001b[0m     \u001b[38;5;28;01mreturn\u001b[39;00m ArrayManager(arrays, [index, columns])\n",
      "File \u001b[1;32m~\\AppData\\Local\\anaconda3\\envs\\spatial_h3\\lib\\site-packages\\pandas\\core\\internals\\managers.py:2144\u001b[0m, in \u001b[0;36mcreate_block_manager_from_column_arrays\u001b[1;34m(arrays, axes, consolidate, refs)\u001b[0m\n\u001b[0;32m   2142\u001b[0m     raise_construction_error(\u001b[38;5;28mlen\u001b[39m(arrays), arrays[\u001b[38;5;241m0\u001b[39m]\u001b[38;5;241m.\u001b[39mshape, axes, e)\n\u001b[0;32m   2143\u001b[0m \u001b[38;5;28;01mif\u001b[39;00m consolidate:\n\u001b[1;32m-> 2144\u001b[0m     \u001b[43mmgr\u001b[49m\u001b[38;5;241;43m.\u001b[39;49m\u001b[43m_consolidate_inplace\u001b[49m\u001b[43m(\u001b[49m\u001b[43m)\u001b[49m\n\u001b[0;32m   2145\u001b[0m \u001b[38;5;28;01mreturn\u001b[39;00m mgr\n",
      "File \u001b[1;32m~\\AppData\\Local\\anaconda3\\envs\\spatial_h3\\lib\\site-packages\\pandas\\core\\internals\\managers.py:1788\u001b[0m, in \u001b[0;36mBlockManager._consolidate_inplace\u001b[1;34m(self)\u001b[0m\n\u001b[0;32m   1782\u001b[0m \u001b[38;5;28;01mdef\u001b[39;00m \u001b[38;5;21m_consolidate_inplace\u001b[39m(\u001b[38;5;28mself\u001b[39m) \u001b[38;5;241m-\u001b[39m\u001b[38;5;241m>\u001b[39m \u001b[38;5;28;01mNone\u001b[39;00m:\n\u001b[0;32m   1783\u001b[0m     \u001b[38;5;66;03m# In general, _consolidate_inplace should only be called via\u001b[39;00m\n\u001b[0;32m   1784\u001b[0m     \u001b[38;5;66;03m#  DataFrame._consolidate_inplace, otherwise we will fail to invalidate\u001b[39;00m\n\u001b[0;32m   1785\u001b[0m     \u001b[38;5;66;03m#  the DataFrame's _item_cache. The exception is for newly-created\u001b[39;00m\n\u001b[0;32m   1786\u001b[0m     \u001b[38;5;66;03m#  BlockManager objects not yet attached to a DataFrame.\u001b[39;00m\n\u001b[0;32m   1787\u001b[0m     \u001b[38;5;28;01mif\u001b[39;00m \u001b[38;5;129;01mnot\u001b[39;00m \u001b[38;5;28mself\u001b[39m\u001b[38;5;241m.\u001b[39mis_consolidated():\n\u001b[1;32m-> 1788\u001b[0m         \u001b[38;5;28mself\u001b[39m\u001b[38;5;241m.\u001b[39mblocks \u001b[38;5;241m=\u001b[39m \u001b[43m_consolidate\u001b[49m\u001b[43m(\u001b[49m\u001b[38;5;28;43mself\u001b[39;49m\u001b[38;5;241;43m.\u001b[39;49m\u001b[43mblocks\u001b[49m\u001b[43m)\u001b[49m\n\u001b[0;32m   1789\u001b[0m         \u001b[38;5;28mself\u001b[39m\u001b[38;5;241m.\u001b[39m_is_consolidated \u001b[38;5;241m=\u001b[39m \u001b[38;5;28;01mTrue\u001b[39;00m\n\u001b[0;32m   1790\u001b[0m         \u001b[38;5;28mself\u001b[39m\u001b[38;5;241m.\u001b[39m_known_consolidated \u001b[38;5;241m=\u001b[39m \u001b[38;5;28;01mTrue\u001b[39;00m\n",
      "File \u001b[1;32m~\\AppData\\Local\\anaconda3\\envs\\spatial_h3\\lib\\site-packages\\pandas\\core\\internals\\managers.py:2269\u001b[0m, in \u001b[0;36m_consolidate\u001b[1;34m(blocks)\u001b[0m\n\u001b[0;32m   2267\u001b[0m new_blocks: \u001b[38;5;28mlist\u001b[39m[Block] \u001b[38;5;241m=\u001b[39m []\n\u001b[0;32m   2268\u001b[0m \u001b[38;5;28;01mfor\u001b[39;00m (_can_consolidate, dtype), group_blocks \u001b[38;5;129;01min\u001b[39;00m grouper:\n\u001b[1;32m-> 2269\u001b[0m     merged_blocks, _ \u001b[38;5;241m=\u001b[39m \u001b[43m_merge_blocks\u001b[49m\u001b[43m(\u001b[49m\n\u001b[0;32m   2270\u001b[0m \u001b[43m        \u001b[49m\u001b[38;5;28;43mlist\u001b[39;49m\u001b[43m(\u001b[49m\u001b[43mgroup_blocks\u001b[49m\u001b[43m)\u001b[49m\u001b[43m,\u001b[49m\u001b[43m \u001b[49m\u001b[43mdtype\u001b[49m\u001b[38;5;241;43m=\u001b[39;49m\u001b[43mdtype\u001b[49m\u001b[43m,\u001b[49m\u001b[43m \u001b[49m\u001b[43mcan_consolidate\u001b[49m\u001b[38;5;241;43m=\u001b[39;49m\u001b[43m_can_consolidate\u001b[49m\n\u001b[0;32m   2271\u001b[0m \u001b[43m    \u001b[49m\u001b[43m)\u001b[49m\n\u001b[0;32m   2272\u001b[0m     new_blocks \u001b[38;5;241m=\u001b[39m extend_blocks(merged_blocks, new_blocks)\n\u001b[0;32m   2273\u001b[0m \u001b[38;5;28;01mreturn\u001b[39;00m \u001b[38;5;28mtuple\u001b[39m(new_blocks)\n",
      "File \u001b[1;32m~\\AppData\\Local\\anaconda3\\envs\\spatial_h3\\lib\\site-packages\\pandas\\core\\internals\\managers.py:2301\u001b[0m, in \u001b[0;36m_merge_blocks\u001b[1;34m(blocks, dtype, can_consolidate)\u001b[0m\n\u001b[0;32m   2298\u001b[0m     new_values \u001b[38;5;241m=\u001b[39m bvals2[\u001b[38;5;241m0\u001b[39m]\u001b[38;5;241m.\u001b[39m_concat_same_type(bvals2, axis\u001b[38;5;241m=\u001b[39m\u001b[38;5;241m0\u001b[39m)\n\u001b[0;32m   2300\u001b[0m argsort \u001b[38;5;241m=\u001b[39m np\u001b[38;5;241m.\u001b[39margsort(new_mgr_locs)\n\u001b[1;32m-> 2301\u001b[0m new_values \u001b[38;5;241m=\u001b[39m \u001b[43mnew_values\u001b[49m\u001b[43m[\u001b[49m\u001b[43margsort\u001b[49m\u001b[43m]\u001b[49m\n\u001b[0;32m   2302\u001b[0m new_mgr_locs \u001b[38;5;241m=\u001b[39m new_mgr_locs[argsort]\n\u001b[0;32m   2304\u001b[0m bp \u001b[38;5;241m=\u001b[39m BlockPlacement(new_mgr_locs)\n",
      "\u001b[1;31mMemoryError\u001b[0m: Unable to allocate 1.61 GiB for an array with shape (2, 108339425) and data type object"
     ]
    }
   ],
   "source": [
    "%%time\n",
    "# Define the path to the geodatabase\n",
    "inputs_gdb = r'C://Research/Grid_effort/H3Grid_Inputs.gdb'\n",
    "hex_gdb = r\"C://Research/Grid_effort/H3_5_10_Grd.gdb\"\n",
    "hexLevel = '10'\n",
    "\n",
    "# Read in the H3_5 polygon grid layer as the base layer\n",
    "base_layer = gpd.read_file(hex_gdb, layer='H3_'+hexLevel)\n",
    "base_layer.drop(columns=['Shape_Length','Shape_Area'],inplace=True)"
   ]
  },
  {
   "cell_type": "code",
   "execution_count": 132,
   "id": "e6f3f3f7-78e3-46af-882c-b2f8979fb4e5",
   "metadata": {},
   "outputs": [],
   "source": [
    "del hex_gdb"
   ]
  },
  {
   "cell_type": "markdown",
   "id": "f653a86a-91e9-4f55-a1c6-7b15785c9adf",
   "metadata": {},
   "source": [
    "Hex to counties"
   ]
  },
  {
   "cell_type": "code",
   "execution_count": 128,
   "id": "ae5fb0ea-d15c-4202-9850-5c3c2d2ec30d",
   "metadata": {},
   "outputs": [
    {
     "name": "stdout",
     "output_type": "stream",
     "text": [
      "CPU times: total: 2.86 s\n",
      "Wall time: 3.09 s\n"
     ]
    }
   ],
   "source": [
    "%%time\n",
    "joined_layer = gpd.read_file(inputs_gdb, layer='tj_2021_us_st_cnt')\n",
    "try:\n",
    "    joined_layer.drop(columns=['Shape_Length','Shape_Area'],inplace=True)\n",
    "except:\n",
    "    print('Layer already cleared')"
   ]
  },
  {
   "cell_type": "code",
   "execution_count": 129,
   "id": "210843cc-44b0-4bb2-907b-2119783e518a",
   "metadata": {},
   "outputs": [
    {
     "ename": "NameError",
     "evalue": "name 'base_layer' is not defined",
     "output_type": "error",
     "traceback": [
      "\u001b[1;31m---------------------------------------------------------------------------\u001b[0m",
      "\u001b[1;31mNameError\u001b[0m                                 Traceback (most recent call last)",
      "File \u001b[1;32m<timed exec>:1\u001b[0m\n",
      "\u001b[1;31mNameError\u001b[0m: name 'base_layer' is not defined"
     ]
    }
   ],
   "source": [
    "%%time\n",
    "if not joined_layer.crs == base_layer.crs:\n",
    "        joined_layer = joined_layer.to_crs(base_layer.crs)\n",
    "\n",
    "output_layer = gpd.sjoin(base_layer, joined_layer, how=\"left\")\n",
    "\n",
    "if 'index_right' in output_layer.columns:\n",
    "        output_layer = output_layer.drop('index_right', axis=1)"
   ]
  },
  {
   "cell_type": "code",
   "execution_count": 130,
   "id": "f13ef2ce-8595-4b7f-a638-44da339d5a41",
   "metadata": {},
   "outputs": [
    {
     "ename": "NameError",
     "evalue": "name 'output_layer' is not defined",
     "output_type": "error",
     "traceback": [
      "\u001b[1;31m---------------------------------------------------------------------------\u001b[0m",
      "\u001b[1;31mNameError\u001b[0m                                 Traceback (most recent call last)",
      "File \u001b[1;32m<timed eval>:1\u001b[0m\n",
      "\u001b[1;31mNameError\u001b[0m: name 'output_layer' is not defined"
     ]
    }
   ],
   "source": [
    "%%time\n",
    "output_layer.to_file('h'+hexLevel+'_tj2021.gdb',driver='OpenFileGDB')"
   ]
  },
  {
   "cell_type": "code",
   "execution_count": 131,
   "id": "e1437c46-60df-4583-9007-645857ac1a1d",
   "metadata": {},
   "outputs": [
    {
     "ename": "NameError",
     "evalue": "name 'output_layer' is not defined",
     "output_type": "error",
     "traceback": [
      "\u001b[1;31m---------------------------------------------------------------------------\u001b[0m",
      "\u001b[1;31mNameError\u001b[0m                                 Traceback (most recent call last)",
      "Cell \u001b[1;32mIn[131], line 1\u001b[0m\n\u001b[1;32m----> 1\u001b[0m \u001b[38;5;28;01mdel\u001b[39;00m joined_layer, output_layer\n",
      "\u001b[1;31mNameError\u001b[0m: name 'output_layer' is not defined"
     ]
    }
   ],
   "source": [
    "del joined_layer, output_layer"
   ]
  },
  {
   "cell_type": "markdown",
   "id": "9343f53d-ecc1-40a1-814e-81eb17967c7e",
   "metadata": {},
   "source": [
    "Hex to estuarine"
   ]
  },
  {
   "cell_type": "code",
   "execution_count": null,
   "id": "5e5b912a-b17b-4eb3-b77f-d052b14db017",
   "metadata": {},
   "outputs": [],
   "source": [
    "%%time\n",
    "joined_layer = gpd.read_file(inputs_gdb, layer='Estuarine_Drainage_Areas')\n",
    "try:\n",
    "    joined_layer.drop(columns=['Shape_Length','Shape_Area'],inplace=True)\n",
    "except:\n",
    "    print('Layer already cleared')"
   ]
  },
  {
   "cell_type": "code",
   "execution_count": null,
   "id": "5b2be383-7b4c-40d2-ab4f-2224096b1f7e",
   "metadata": {},
   "outputs": [],
   "source": [
    "%%time\n",
    "if not joined_layer.crs == base_layer.crs:\n",
    "        joined_layer = joined_layer.to_crs(base_layer.crs)\n",
    "\n",
    "output_layer = gpd.sjoin(base_layer, joined_layer, how=\"left\")\n",
    "\n",
    "if 'index_right' in output_layer.columns:\n",
    "        output_layer = output_layer.drop('index_right', axis=1)"
   ]
  },
  {
   "cell_type": "code",
   "execution_count": null,
   "id": "8293e9f5-f904-4738-97b9-591422ea62cc",
   "metadata": {},
   "outputs": [],
   "source": [
    "%%time\n",
    "output_layer.to_file('h'+hexLevel+'_Estuarine.gdb',driver='OpenFileGDB')"
   ]
  },
  {
   "cell_type": "code",
   "execution_count": null,
   "id": "4fcf92f9-8f5a-43df-9677-ef0abc88509d",
   "metadata": {},
   "outputs": [],
   "source": [
    "del joined_layer, output_layer"
   ]
  },
  {
   "cell_type": "markdown",
   "id": "14acb7c7-73af-4c86-90bc-bc9270841f1e",
   "metadata": {},
   "source": [
    "Hex to huc8"
   ]
  },
  {
   "cell_type": "code",
   "execution_count": null,
   "id": "2830958c-517e-4678-9106-ebf4f6100829",
   "metadata": {},
   "outputs": [],
   "source": [
    "%%time\n",
    "joined_layer = gpd.read_file(inputs_gdb, layer='WBDHU8')\n",
    "try:\n",
    "    joined_layer.drop(columns=['Shape_Length','Shape_Area'],inplace=True)\n",
    "except:\n",
    "    print('Layer already cleared')"
   ]
  },
  {
   "cell_type": "code",
   "execution_count": null,
   "id": "2a227432-26dc-4766-984d-5415ef847564",
   "metadata": {},
   "outputs": [],
   "source": [
    "%%time\n",
    "if not joined_layer.crs == base_layer.crs:\n",
    "        joined_layer = joined_layer.to_crs(base_layer.crs)\n",
    "\n",
    "output_layer = gpd.sjoin(base_layer, joined_layer, how=\"left\")\n",
    "\n",
    "if 'index_right' in output_layer.columns:\n",
    "        output_layer = output_layer.drop('index_right', axis=1)"
   ]
  },
  {
   "cell_type": "code",
   "execution_count": null,
   "id": "69567f24-0491-476a-9ca9-1ee5b935424b",
   "metadata": {},
   "outputs": [],
   "source": [
    "%%time\n",
    "output_layer.to_file('h'+hexLevel+'_WBDHU8.gdb',driver='OpenFileGDB')"
   ]
  },
  {
   "cell_type": "code",
   "execution_count": null,
   "id": "786d870d-7195-4c0f-9afb-3ac19ef7f340",
   "metadata": {},
   "outputs": [],
   "source": [
    "del joined_layer, output_layer"
   ]
  },
  {
   "cell_type": "markdown",
   "id": "c6cd7c67-2789-4934-9dae-6dd6774283dc",
   "metadata": {},
   "source": [
    "Hex to census"
   ]
  },
  {
   "cell_type": "code",
   "execution_count": null,
   "id": "ab9735d4-15fe-43b4-9d66-6bbe4f62e26a",
   "metadata": {},
   "outputs": [],
   "source": [
    "%%time\n",
    "joined_layer = gpd.read_file(inputs_gdb, layer='dtl_cnty_Census_ESRI')\n",
    "try:\n",
    "    joined_layer.drop(columns=['Shape_Length','Shape_Area'],inplace=True)\n",
    "except:\n",
    "    print('Layer already cleared')"
   ]
  },
  {
   "cell_type": "code",
   "execution_count": null,
   "id": "91c8b490-30ce-42d1-8cd9-c8734a4a1cf2",
   "metadata": {},
   "outputs": [],
   "source": [
    "%%time\n",
    "if not joined_layer.crs == base_layer.crs:\n",
    "        joined_layer = joined_layer.to_crs(base_layer.crs)\n",
    "\n",
    "output_layer = gpd.sjoin(base_layer, joined_layer, how=\"left\")\n",
    "\n",
    "if 'index_right' in output_layer.columns:\n",
    "        output_layer = output_layer.drop('index_right', axis=1)"
   ]
  },
  {
   "cell_type": "code",
   "execution_count": null,
   "id": "d9c04d40-ad0a-46db-9c67-349059a3283c",
   "metadata": {},
   "outputs": [],
   "source": [
    "%%time\n",
    "output_layer.to_file('h'+hexLevel+'_Census.gdb',driver='OpenFileGDB')"
   ]
  },
  {
   "cell_type": "code",
   "execution_count": null,
   "id": "936f8ff0-4807-4967-9346-4e55d40c4c36",
   "metadata": {},
   "outputs": [],
   "source": [
    "del joined_layer, output_layer"
   ]
  },
  {
   "cell_type": "markdown",
   "id": "88388d9e-a54b-4c4c-85ec-e481647d44e9",
   "metadata": {},
   "source": [
    "Hex to huc12"
   ]
  },
  {
   "cell_type": "code",
   "execution_count": null,
   "id": "81b3f7a5-a750-46f1-b84c-3a242863ba13",
   "metadata": {},
   "outputs": [],
   "source": [
    "%%time\n",
    "joined_layer = gpd.read_file(inputs_gdb, layer='WBDHU12')\n",
    "try:\n",
    "    joined_layer.drop(columns=['Shape_Length','Shape_Area'],inplace=True)\n",
    "except:\n",
    "    print('Layer already cleared')"
   ]
  },
  {
   "cell_type": "code",
   "execution_count": null,
   "id": "900fb2aa-3b86-4e8c-b8fb-6b18cc6e543c",
   "metadata": {},
   "outputs": [],
   "source": [
    "%%time\n",
    "if not joined_layer.crs == base_layer.crs:\n",
    "        joined_layer = joined_layer.to_crs(base_layer.crs)\n",
    "\n",
    "output_layer = gpd.sjoin(base_layer, joined_layer, how=\"left\")\n",
    "\n",
    "if 'index_right' in output_layer.columns:\n",
    "        output_layer = output_layer.drop('index_right', axis=1)"
   ]
  },
  {
   "cell_type": "code",
   "execution_count": null,
   "id": "ede92ed6-bbdb-43e0-90a5-1cc3a6a84b98",
   "metadata": {},
   "outputs": [],
   "source": [
    "%%time\n",
    "output_layer.to_file('h'+hexLevel+'_WBDHU12.gdb',driver='OpenFileGDB')"
   ]
  },
  {
   "cell_type": "code",
   "execution_count": null,
   "id": "313c7e93-a487-49bb-bb75-3145a42640fd",
   "metadata": {},
   "outputs": [],
   "source": [
    "del joined_layer, output_layer"
   ]
  },
  {
   "cell_type": "markdown",
   "id": "2a070e65-65bc-47b8-8823-579823b3584f",
   "metadata": {},
   "source": [
    "Hex to all at once"
   ]
  },
  {
   "cell_type": "code",
   "execution_count": null,
   "id": "7ee006d8-f3e6-450d-84e3-9df65ee1a743",
   "metadata": {},
   "outputs": [],
   "source": [
    "%%time\n",
    "layers_to_join = ['tj_2021_us_st_cnt', 'Estuarine_Drainage_Areas', 'WBDHU8', 'dtl_cnty_Census_ESRI', 'WBDHU12']\n",
    "layer_gdfs = {layer: gpd.read_file(inputs_gdb, layer=layer) for layer in layers_to_join}"
   ]
  },
  {
   "cell_type": "code",
   "execution_count": null,
   "id": "56ac2c29-bce4-4f4c-84e4-5d5c89534c4d",
   "metadata": {},
   "outputs": [],
   "source": [
    "%%time\n",
    "for name, gdf in layer_gdfs.items():\n",
    "    # Ensure the CRS is the same between the base layer and the current layer\n",
    "    if not gdf.crs == base_layer.crs:\n",
    "        gdf = gdf.to_crs(base_layer.crs)\n",
    "    if 'Shape_Length' in gdf.columns:\n",
    "        gdf.drop('Shape_Length', axis=1, inplace=True)\n",
    "    if 'Shape_Area' in gdf.columns:\n",
    "        gdf.drop('Shape_Area', axis=1, inplace=True)\n",
    "\n",
    "    # Perform spatial join (inner join by default)\n",
    "    base_layer = gpd.sjoin(base_layer, gdf, how=\"left\")\n",
    "    \n",
    "    # Drop the `index_right` column if it exists\n",
    "    if 'index_right' in base_layer.columns:\n",
    "        base_layer.drop('index_right', axis=1, inplace=True)"
   ]
  },
  {
   "cell_type": "code",
   "execution_count": null,
   "id": "c76cf4ec-cf4c-4c18-adea-602201fd479e",
   "metadata": {},
   "outputs": [],
   "source": [
    "%%time\n",
    "base_layer.to_file('h'+hexLevel+'_allAtOnce.gdb',driver='OpenFileGDB')"
   ]
  },
  {
   "cell_type": "code",
   "execution_count": null,
   "id": "ec776c56-2c21-4236-866d-3831c03a1ec8",
   "metadata": {
    "jupyter": {
     "source_hidden": true
    }
   },
   "outputs": [],
   "source": [
    "del layers_to_join, layer_gdfs, gdf, base_layer"
   ]
  }
 ],
 "metadata": {
  "kernelspec": {
   "display_name": "Python 3 (ipykernel)",
   "language": "python",
   "name": "python3"
  },
  "language_info": {
   "codemirror_mode": {
    "name": "ipython",
    "version": 3
   },
   "file_extension": ".py",
   "mimetype": "text/x-python",
   "name": "python",
   "nbconvert_exporter": "python",
   "pygments_lexer": "ipython3",
   "version": "3.9.20"
  }
 },
 "nbformat": 4,
 "nbformat_minor": 5
}
