{
 "cells": [
  {
   "cell_type": "markdown",
   "id": "05fb3e33-baa7-45f0-b439-04727c1f21e5",
   "metadata": {},
   "source": [
    "# HEX timing analysis"
   ]
  },
  {
   "cell_type": "markdown",
   "id": "427ecf8d-c623-4b15-b798-ae871dd4eb7c",
   "metadata": {},
   "source": [
    "performed on timing_script.ipynb <br>\n",
    "<b>no parallelization</b> <br>\n",
    "<br>\n",
    "Processor: Intel(R) Xeon(R) w3-2435 3.10 GHz 16 core <br>\n",
    "RAM: 64.0 GB"
   ]
  },
  {
   "attachments": {},
   "cell_type": "markdown",
   "id": "5104962d-922d-43e3-8a45-ab8d7f6a5467",
   "metadata": {},
   "source": [
    "### Reading data in\n",
    "![alt text](timing_1.png \"Hex data read in time\") <br>\n",
    "Performance is highly dependant on the data location. Using local drive significantly speeds up the process. <br>\n",
    "Generally, reading data from K drive constitutes to about 90% of total execution time. <br>\n",
    "<br>\n",
    "![alt text](timing_2.png \"Joined data read in time\") <br>\n",
    "Reading file by file seems to save little time, but could improve mmory management, if cleaned accordingly <br>\n",
    "<br>\n",
    "Results table (in seconds) <br>\n",
    "\n",
    "|   | H5 |\tH6 | H7 | H8 | H9 |\n",
    "|:-:|:-:|:-:|:-:|:-:|:-:|\n",
    "|K: drive |0.542\t| 13.7\t| 88\t| 615\t| dropped |\n",
    "|local drive |0.148\t| 0.717\t| 4.68\t| 33\t| 230 |"
   ]
  },
  {
   "cell_type": "markdown",
   "id": "720fd447-d43c-4a87-b9df-0913fbf2acf9",
   "metadata": {},
   "source": [
    "### Spatial join \n",
    "![alt text](timing_3.png \"Hex data read in time\") <br>\n",
    "Timing for spatial join depends on the size of data used and hex resolution. <br>\n",
    "For single layer joined to H5 or H6 procedure takes up to 2 seconds. When all 5 layers are included at once, it takes about 5-10 seconds. This number increases with hex resolution, up to roughly 28 minutes for H9."
   ]
  },
  {
   "cell_type": "markdown",
   "id": "f4f12dce-ea29-4e30-9202-934db38d7368",
   "metadata": {},
   "source": [
    "### Writing data to geodatabase\n",
    "![alt text](timing_4.png \"Hex data read in time\") <br>\n",
    "Depending on the size, writing data into geodatabase file takes up to couple minnutes at H9."
   ]
  },
  {
   "cell_type": "markdown",
   "id": "9b8cfa2b-b1f7-4ee7-8c05-1884bf39084d",
   "metadata": {},
   "source": [
    "### Final full execution time\n",
    "This includes reading data in (local drive), process spatial joins (no parallelization) and saving data into geodatabase, i.e. full process. <br>\n",
    "\n",
    "|| H5 | H6 | H7 | H8 | H9 |\n",
    "|:-:|:-:|:-:|:-:|:-:|:-:|\n",
    "|time passed in minutes|0.194|0.257|1.376|5.698|36.66|"
   ]
  },
  {
   "cell_type": "code",
   "execution_count": null,
   "id": "1ebee562-4715-42ff-bc56-b660cfe0030f",
   "metadata": {},
   "outputs": [],
   "source": []
  }
 ],
 "metadata": {
  "kernelspec": {
   "display_name": "Python 3 (ipykernel)",
   "language": "python",
   "name": "python3"
  },
  "language_info": {
   "codemirror_mode": {
    "name": "ipython",
    "version": 3
   },
   "file_extension": ".py",
   "mimetype": "text/x-python",
   "name": "python",
   "nbconvert_exporter": "python",
   "pygments_lexer": "ipython3",
   "version": "3.9.20"
  }
 },
 "nbformat": 4,
 "nbformat_minor": 5
}
