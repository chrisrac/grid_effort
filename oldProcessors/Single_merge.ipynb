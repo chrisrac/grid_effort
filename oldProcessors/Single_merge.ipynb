{
 "cells": [
  {
   "cell_type": "markdown",
   "id": "2e892a45-100b-4381-84db-0d50bf18992f",
   "metadata": {},
   "source": [
    "# Single merge script"
   ]
  },
  {
   "cell_type": "markdown",
   "id": "a47f5221-7686-4be3-ae19-29697bffb867",
   "metadata": {},
   "source": [
    "This script runs a single layer join on hex grid. Uses Kate's generated hexes and Inputs.<br>\n",
    "There is no cleaning and type controll. No optimization/vectorization/parallelization. "
   ]
  },
  {
   "cell_type": "code",
   "execution_count": 1,
   "id": "2c257f42-3aeb-4c29-8e06-9e6b71b599c1",
   "metadata": {},
   "outputs": [],
   "source": [
    "# Import modules\n",
    "import geopandas as gpd\n",
    "import fiona"
   ]
  },
  {
   "cell_type": "markdown",
   "id": "9bab3a0a-7088-4167-9659-43c77613d438",
   "metadata": {},
   "source": [
    "Modify below cell to indicate path to database, hex level and joined layer"
   ]
  },
  {
   "cell_type": "code",
   "execution_count": 2,
   "id": "c88d09cc-671e-401c-b6f2-722899892dc5",
   "metadata": {},
   "outputs": [],
   "source": [
    "# Define path to hex grid database\n",
    "hex_gdb = r'C://Research/Grid_effort/H3_5_10_Grd.gdb'\n",
    "# Define hex level\n",
    "hexLevel = '5'\n",
    "\n",
    "# Define the path to the geodatabase with joined layer\n",
    "inputs_gdb = r'C://Research/Grid_effort/H3Grid_Inputs.gdb'\n",
    "# Name of layer to join\n",
    "layer_to_join = 'tj_2021_us_st_cnt'"
   ]
  },
  {
   "cell_type": "markdown",
   "id": "298b472d-3e30-4430-ba57-c4fd3415c39b",
   "metadata": {},
   "source": [
    "Run below cell to perform merge and save result"
   ]
  },
  {
   "cell_type": "code",
   "execution_count": 3,
   "id": "506e8cf1-e0ca-403f-b944-f5545254e729",
   "metadata": {},
   "outputs": [],
   "source": [
    "# Read in the hex polygon grid layer as the base layer\n",
    "base_layer = gpd.read_file(hex_gdb, layer='H3_'+hexLevel)\n",
    "base_layer.drop(columns=['Shape_Length','Shape_Area'],inplace=True)\n",
    "# Read the joined layer\n",
    "joined_layer = gpd.read_file(inputs_gdb, layer=layer_to_join)\n",
    "# Check if garbage data is present and try to remove it\n",
    "try:\n",
    "    joined_layer.drop(columns=['Shape_Length','Shape_Area'],inplace=True)\n",
    "except:\n",
    "    print('Layer already cleared')\n",
    "# Compare the CRS and use hex coordinates, as it is in meters. Projecting to WGS84 lowers performance \n",
    "if not joined_layer.crs == base_layer.crs:\n",
    "        joined_layer = joined_layer.to_crs(base_layer.crs)\n",
    "# Perform spatial join\n",
    "# here a modification migh be needed, to include different predicates parameter, to differ results\n",
    "# more here: https://shapely.readthedocs.io/en/latest/manual.html#binary-predicates\n",
    "output_layer = gpd.sjoin(base_layer, joined_layer, how=\"left\")\n",
    "# Save the result in work path\n",
    "output_layer.to_file('h'+hexLevel+'_'+layer_to_join+'.gdb',driver='OpenFileGDB')"
   ]
  },
  {
   "cell_type": "code",
   "execution_count": null,
   "id": "681c350a-8017-4b01-a3ef-86d1424db18b",
   "metadata": {},
   "outputs": [],
   "source": []
  }
 ],
 "metadata": {
  "kernelspec": {
   "display_name": "Python 3 (ipykernel)",
   "language": "python",
   "name": "python3"
  },
  "language_info": {
   "codemirror_mode": {
    "name": "ipython",
    "version": 3
   },
   "file_extension": ".py",
   "mimetype": "text/x-python",
   "name": "python",
   "nbconvert_exporter": "python",
   "pygments_lexer": "ipython3",
   "version": "3.9.20"
  }
 },
 "nbformat": 4,
 "nbformat_minor": 5
}
